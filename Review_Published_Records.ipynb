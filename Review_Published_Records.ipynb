{
 "cells": [
  {
   "cell_type": "markdown",
   "metadata": {},
   "source": [
    "https://www.bexar.org/2923/Misdemeanor-Records"
   ]
  },
  {
   "cell_type": "code",
   "execution_count": null,
   "metadata": {},
   "outputs": [],
   "source": [
    "import pandas as pd\n",
    "import matplotlib.pyplot as plt\n",
    "import datetime\n",
    "import matplotlib.dates as mdates"
   ]
  },
  {
   "cell_type": "code",
   "execution_count": null,
   "metadata": {},
   "outputs": [],
   "source": [
    "! ls -alt /mnt/c/Users/ldhag/Downloads/*.csv"
   ]
  },
  {
   "cell_type": "code",
   "execution_count": null,
   "metadata": {},
   "outputs": [],
   "source": [
    "Bexar_misdem_a = pd.read_csv('/mnt/c/Users/ldhag/Downloads/CC_cjjorad_a.csv', error_bad_lines=False)\n",
    "Bexar_misdem_b = pd.read_csv('/mnt/c/Users/ldhag/Downloads/CC_cjjorad_b.csv', error_bad_lines=False)\n",
    "Bexar_misdem_c_cn = pd.read_csv('/mnt/c/Users/ldhag/Downloads/CC_cjjorad_c_cn.csv', error_bad_lines=False)\n",
    "Bexar_misdem_co_cz = pd.read_csv('/mnt/c/Users/ldhag/Downloads/CC_cjjorad_co_cz.csv', error_bad_lines=False)\n",
    "exar_misdem_d = pd.read_csv('/mnt/c/Users/ldhag/Downloads/CC_cjjorad_d.csv', error_bad_lines=False)"
   ]
  },
  {
   "cell_type": "code",
   "execution_count": null,
   "metadata": {},
   "outputs": [],
   "source": [
    "Bexar_misdem_e = pd.read_csv('/mnt/c/Users/ldhag/Downloads/CC_cjjorad_e.csv', error_bad_lines=False)\n",
    "Bexar_misdem_f = pd.read_csv('/mnt/c/Users/ldhag/Downloads/CC_cjjorad_f.csv', error_bad_lines=False)\n",
    "Bexar_misdem_g_gn = pd.read_csv('/mnt/c/Users/ldhag/Downloads/CC_cjjorad_g_gn.csv', error_bad_lines=False)\n",
    "Bexar_misdem_go_gy = pd.read_csv('/mnt/c/Users/ldhag/Downloads/CC_cjjorad_go_gy.csv', error_bad_lines=False)\n",
    "Bexar_misdem_h = pd.read_csv('/mnt/c/Users/ldhag/Downloads/CC_cjjorad_h.csv', error_bad_lines=False)"
   ]
  },
  {
   "cell_type": "code",
   "execution_count": null,
   "metadata": {},
   "outputs": [],
   "source": [
    "result = pd.concat([Bexar_misdem_a,Bexar_misdem_b,Bexar_misdem_c_cn,Bexar_misdem_co_cz,Bexar_misdem_e,Bexar_misdem_f,Bexar_misdem_g_gn,Bexar_misdem_go_gy])"
   ]
  },
  {
   "cell_type": "code",
   "execution_count": null,
   "metadata": {},
   "outputs": [],
   "source": [
    "result.info()"
   ]
  },
  {
   "cell_type": "code",
   "execution_count": null,
   "metadata": {},
   "outputs": [],
   "source": [
    "len(result)"
   ]
  },
  {
   "cell_type": "code",
   "execution_count": null,
   "metadata": {},
   "outputs": [],
   "source": [
    "dir()"
   ]
  },
  {
   "cell_type": "code",
   "execution_count": null,
   "metadata": {},
   "outputs": [],
   "source": [
    "bbb[bbb['FULL-NAME'].str.startswith('BARRERA, RICHARD')]"
   ]
  },
  {
   "cell_type": "code",
   "execution_count": null,
   "metadata": {},
   "outputs": [],
   "source": [
    "bbb[bbb['CASE-CAUSE-NBR'] == 132831])"
   ]
  },
  {
   "cell_type": "code",
   "execution_count": null,
   "metadata": {},
   "outputs": [],
   "source": [
    "bbb[bbb.BIRTHDATE == '05/09/1976']"
   ]
  },
  {
   "cell_type": "code",
   "execution_count": null,
   "metadata": {},
   "outputs": [],
   "source": [
    "print(bbb[bbb.BIRTHDATE == '05/11/1954'])"
   ]
  },
  {
   "cell_type": "code",
   "execution_count": null,
   "metadata": {},
   "outputs": [],
   "source": [
    "bbb['OFFENSE-DESC'].value_counts()"
   ]
  },
  {
   "cell_type": "code",
   "execution_count": null,
   "metadata": {},
   "outputs": [],
   "source": [
    "bbb[bbb['OFFENSE-DESC'].str.startswith('POSS MARIHUANA')]['OFFENSE-DESC'].value_counts()"
   ]
  },
  {
   "cell_type": "code",
   "execution_count": null,
   "metadata": {},
   "outputs": [],
   "source": [
    "bbb[bbb['OFFENSE-DESC'].str.startswith('POSS MARIHUANA')]['SENTENCE'].value_counts()"
   ]
  },
  {
   "cell_type": "code",
   "execution_count": null,
   "metadata": {},
   "outputs": [],
   "source": [
    "bbb[bbb['SENTENCE-START-DATE'].isnull()]"
   ]
  },
  {
   "cell_type": "code",
   "execution_count": null,
   "metadata": {},
   "outputs": [],
   "source": []
  }
 ],
 "metadata": {
  "kernelspec": {
   "display_name": "Python 3",
   "language": "python",
   "name": "python3"
  },
  "language_info": {
   "codemirror_mode": {
    "name": "ipython",
    "version": 3
   },
   "file_extension": ".py",
   "mimetype": "text/x-python",
   "name": "python",
   "nbconvert_exporter": "python",
   "pygments_lexer": "ipython3",
   "version": "3.8.5"
  }
 },
 "nbformat": 4,
 "nbformat_minor": 4
}
