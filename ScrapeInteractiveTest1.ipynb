{
 "cells": [
  {
   "cell_type": "markdown",
   "id": "df2189e8-582f-4925-8b6d-b0fafcbc1933",
   "metadata": {},
   "source": [
    "https://learning.oreilly.com/videos/browser-automation-with/9781800560161/9781800560161-video3_1/"
   ]
  },
  {
   "cell_type": "code",
   "execution_count": null,
   "id": "3ec6db0c-97bb-4a5b-a423-53604260ca1f",
   "metadata": {},
   "outputs": [],
   "source": [
    "!date"
   ]
  },
  {
   "cell_type": "code",
   "execution_count": null,
   "id": "846b4351-bedf-4f32-8a6e-fb96d3029c2b",
   "metadata": {},
   "outputs": [],
   "source": [
    "!pip3 install selenium"
   ]
  },
  {
   "cell_type": "code",
   "execution_count": null,
   "id": "c99f51b1-ffc0-4b21-9ec3-2f0e5e0a5ffb",
   "metadata": {},
   "outputs": [],
   "source": [
    "from selenium import webdriver\n",
    "from selenium.webdriver.chrome.service import Service\n",
    "from selenium.webdriver.common.by import By"
   ]
  },
  {
   "cell_type": "code",
   "execution_count": null,
   "id": "0f51a2e4-c64c-4919-bb9e-d153fdaff004",
   "metadata": {},
   "outputs": [],
   "source": [
    "chrome_service = Service(executable_path=r'/var/tmp/ldh/working/chromedriver')"
   ]
  },
  {
   "cell_type": "code",
   "execution_count": null,
   "id": "a18ede2e-b241-4011-978a-34ebe9a15067",
   "metadata": {},
   "outputs": [],
   "source": [
    "driver = webdriver.Chrome(service=chrome_service)"
   ]
  },
  {
   "cell_type": "code",
   "execution_count": null,
   "id": "7d985b8c-b1aa-4353-86a4-ff7f62f14937",
   "metadata": {},
   "outputs": [],
   "source": [
    "driver.get('https://techstepacademy.com/training-ground')"
   ]
  },
  {
   "cell_type": "code",
   "execution_count": null,
   "id": "9fd4f151-351b-4c09-adab-c8c2853ecad9",
   "metadata": {},
   "outputs": [],
   "source": [
    "input_element = driver.find_element(By.CSS_SELECTOR,'input[id=\"ipt1\"]')"
   ]
  },
  {
   "cell_type": "code",
   "execution_count": null,
   "id": "5a514aa8-4557-4b64-a71e-dcc9b55b8483",
   "metadata": {},
   "outputs": [],
   "source": [
    "input_element"
   ]
  },
  {
   "cell_type": "code",
   "execution_count": null,
   "id": "9c14da73-fc7a-42f0-b009-f420b1868c85",
   "metadata": {},
   "outputs": [],
   "source": [
    "input_element.send_keys(r'Lance Rules!')"
   ]
  },
  {
   "cell_type": "code",
   "execution_count": null,
   "id": "211e46e8-1590-4ffb-998e-7e071faaabcc",
   "metadata": {},
   "outputs": [],
   "source": [
    "button_element = driver.find_element(By.CSS_SELECTOR,'button[name=\"butn1\"]')"
   ]
  },
  {
   "cell_type": "code",
   "execution_count": null,
   "id": "ae2b98c3-529a-444d-b554-98c71fda025d",
   "metadata": {},
   "outputs": [],
   "source": [
    "button_element.click()"
   ]
  },
  {
   "cell_type": "code",
   "execution_count": null,
   "id": "06a485d6-64bf-4c7f-b409-4aaac100851b",
   "metadata": {},
   "outputs": [],
   "source": [
    "driver.quit()"
   ]
  },
  {
   "cell_type": "code",
   "execution_count": null,
   "id": "9ba304ac-7a2b-4f67-8e76-a6769fb40dcb",
   "metadata": {},
   "outputs": [],
   "source": [
    "!date"
   ]
  },
  {
   "cell_type": "code",
   "execution_count": null,
   "id": "383d7765-b23a-4428-8f35-cce9a25664ae",
   "metadata": {},
   "outputs": [],
   "source": []
  },
  {
   "cell_type": "code",
   "execution_count": null,
   "id": "52d8f4b3-a116-4384-9c60-7c8f5cb532a0",
   "metadata": {},
   "outputs": [],
   "source": []
  }
 ],
 "metadata": {
  "kernelspec": {
   "display_name": "Python 3 (ipykernel)",
   "language": "python",
   "name": "python3"
  },
  "language_info": {
   "codemirror_mode": {
    "name": "ipython",
    "version": 3
   },
   "file_extension": ".py",
   "mimetype": "text/x-python",
   "name": "python",
   "nbconvert_exporter": "python",
   "pygments_lexer": "ipython3",
   "version": "3.12.3"
  }
 },
 "nbformat": 4,
 "nbformat_minor": 5
}
