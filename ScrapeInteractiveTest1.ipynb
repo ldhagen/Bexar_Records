{
 "cells": [
  {
   "cell_type": "code",
   "execution_count": 1,
   "id": "c99f51b1-ffc0-4b21-9ec3-2f0e5e0a5ffb",
   "metadata": {},
   "outputs": [],
   "source": [
    "from selenium import webdriver\n",
    "from selenium.webdriver.chrome.service import Service\n",
    "from selenium.webdriver.common.by import By"
   ]
  },
  {
   "cell_type": "code",
   "execution_count": 2,
   "id": "0f51a2e4-c64c-4919-bb9e-d153fdaff004",
   "metadata": {},
   "outputs": [],
   "source": [
    "chrome_service = Service(executable_path=r'/var/tmp/ldh/working/chromedriver')"
   ]
  },
  {
   "cell_type": "code",
   "execution_count": 3,
   "id": "a18ede2e-b241-4011-978a-34ebe9a15067",
   "metadata": {},
   "outputs": [],
   "source": [
    "driver = webdriver.Chrome(service=chrome_service)"
   ]
  },
  {
   "cell_type": "code",
   "execution_count": 4,
   "id": "7d985b8c-b1aa-4353-86a4-ff7f62f14937",
   "metadata": {},
   "outputs": [],
   "source": [
    "driver.get('https://techstepacademy.com/training-ground')"
   ]
  },
  {
   "cell_type": "code",
   "execution_count": 5,
   "id": "9fd4f151-351b-4c09-adab-c8c2853ecad9",
   "metadata": {},
   "outputs": [],
   "source": [
    "input_element = driver.find_element(By.CSS_SELECTOR,'input[id=\"ipt1\"]')"
   ]
  },
  {
   "cell_type": "code",
   "execution_count": 6,
   "id": "5a514aa8-4557-4b64-a71e-dcc9b55b8483",
   "metadata": {},
   "outputs": [
    {
     "data": {
      "text/plain": [
       "<selenium.webdriver.remote.webelement.WebElement (session=\"5e5b4f5a8141877601dad124ac3939a1\", element=\"f.7889C8DBDD380E2961D27A0F5EB0B388.d.6EB9803019DF07E7BE1ED0FE838486DF.e.8\")>"
      ]
     },
     "execution_count": 6,
     "metadata": {},
     "output_type": "execute_result"
    }
   ],
   "source": [
    "input_element"
   ]
  },
  {
   "cell_type": "code",
   "execution_count": 7,
   "id": "9c14da73-fc7a-42f0-b009-f420b1868c85",
   "metadata": {},
   "outputs": [],
   "source": [
    "input_element.send_keys(r'Lance Rules!')"
   ]
  },
  {
   "cell_type": "code",
   "execution_count": 8,
   "id": "0e71511d-806d-4278-9b7a-458c9105b86c",
   "metadata": {},
   "outputs": [],
   "source": [
    "button_element = driver.find_element(By.CSS_SELECTOR,'button[name=\"butn1\"]')"
   ]
  },
  {
   "cell_type": "code",
   "execution_count": 9,
   "id": "e496a560-d525-4598-ad29-ed5a20896055",
   "metadata": {},
   "outputs": [
    {
     "data": {
      "text/plain": [
       "['__abstractmethods__',\n",
       " '__class__',\n",
       " '__delattr__',\n",
       " '__dict__',\n",
       " '__dir__',\n",
       " '__doc__',\n",
       " '__eq__',\n",
       " '__format__',\n",
       " '__ge__',\n",
       " '__getattribute__',\n",
       " '__getstate__',\n",
       " '__gt__',\n",
       " '__hash__',\n",
       " '__init__',\n",
       " '__init_subclass__',\n",
       " '__le__',\n",
       " '__lt__',\n",
       " '__module__',\n",
       " '__ne__',\n",
       " '__new__',\n",
       " '__reduce__',\n",
       " '__reduce_ex__',\n",
       " '__repr__',\n",
       " '__setattr__',\n",
       " '__sizeof__',\n",
       " '__str__',\n",
       " '__subclasshook__',\n",
       " '__weakref__',\n",
       " '_abc_impl',\n",
       " '_execute',\n",
       " '_id',\n",
       " '_parent',\n",
       " '_upload',\n",
       " 'accessible_name',\n",
       " 'aria_role',\n",
       " 'clear',\n",
       " 'click',\n",
       " 'find_element',\n",
       " 'find_elements',\n",
       " 'get_attribute',\n",
       " 'get_dom_attribute',\n",
       " 'get_property',\n",
       " 'id',\n",
       " 'is_displayed',\n",
       " 'is_enabled',\n",
       " 'is_selected',\n",
       " 'location',\n",
       " 'location_once_scrolled_into_view',\n",
       " 'parent',\n",
       " 'rect',\n",
       " 'screenshot',\n",
       " 'screenshot_as_base64',\n",
       " 'screenshot_as_png',\n",
       " 'send_keys',\n",
       " 'shadow_root',\n",
       " 'size',\n",
       " 'submit',\n",
       " 'tag_name',\n",
       " 'text',\n",
       " 'value_of_css_property']"
      ]
     },
     "execution_count": 9,
     "metadata": {},
     "output_type": "execute_result"
    }
   ],
   "source": [
    "dir(button_element)"
   ]
  },
  {
   "cell_type": "code",
   "execution_count": 10,
   "id": "ae2b98c3-529a-444d-b554-98c71fda025d",
   "metadata": {},
   "outputs": [],
   "source": [
    "button_element.click()"
   ]
  },
  {
   "cell_type": "code",
   "execution_count": 11,
   "id": "06a485d6-64bf-4c7f-b409-4aaac100851b",
   "metadata": {},
   "outputs": [],
   "source": [
    "driver.quit()"
   ]
  },
  {
   "cell_type": "code",
   "execution_count": null,
   "id": "9ba304ac-7a2b-4f67-8e76-a6769fb40dcb",
   "metadata": {},
   "outputs": [],
   "source": []
  },
  {
   "cell_type": "code",
   "execution_count": null,
   "id": "383d7765-b23a-4428-8f35-cce9a25664ae",
   "metadata": {},
   "outputs": [],
   "source": []
  },
  {
   "cell_type": "code",
   "execution_count": null,
   "id": "fd759d6b-450e-4ed2-98a1-7106e2202d0c",
   "metadata": {},
   "outputs": [],
   "source": []
  }
 ],
 "metadata": {
  "kernelspec": {
   "display_name": "Python 3 (ipykernel)",
   "language": "python",
   "name": "python3"
  },
  "language_info": {
   "codemirror_mode": {
    "name": "ipython",
    "version": 3
   },
   "file_extension": ".py",
   "mimetype": "text/x-python",
   "name": "python",
   "nbconvert_exporter": "python",
   "pygments_lexer": "ipython3",
   "version": "3.11.6"
  }
 },
 "nbformat": 4,
 "nbformat_minor": 5
}
