{
 "cells": [
  {
   "cell_type": "code",
   "execution_count": 1,
   "id": "c99f51b1-ffc0-4b21-9ec3-2f0e5e0a5ffb",
   "metadata": {},
   "outputs": [],
   "source": [
    "from selenium import webdriver\n",
    "from selenium.webdriver.chrome.service import Service"
   ]
  },
  {
   "cell_type": "code",
   "execution_count": 12,
   "id": "0f51a2e4-c64c-4919-bb9e-d153fdaff004",
   "metadata": {},
   "outputs": [],
   "source": [
    "chrome_service = Service(executable_path=r'/var/tmp/ldh/working/chromedriver')"
   ]
  },
  {
   "cell_type": "code",
   "execution_count": 13,
   "id": "a18ede2e-b241-4011-978a-34ebe9a15067",
   "metadata": {},
   "outputs": [],
   "source": [
    "driver = webdriver.Chrome(service=chrome_service)"
   ]
  },
  {
   "cell_type": "code",
   "execution_count": 15,
   "id": "7d985b8c-b1aa-4353-86a4-ff7f62f14937",
   "metadata": {},
   "outputs": [],
   "source": [
    "driver.get('https://techstepacademy.com/training-ground')"
   ]
  },
  {
   "cell_type": "code",
   "execution_count": 16,
   "id": "06a485d6-64bf-4c7f-b409-4aaac100851b",
   "metadata": {},
   "outputs": [],
   "source": [
    "driver.quit()"
   ]
  }
 ],
 "metadata": {
  "kernelspec": {
   "display_name": "Python 3 (ipykernel)",
   "language": "python",
   "name": "python3"
  },
  "language_info": {
   "codemirror_mode": {
    "name": "ipython",
    "version": 3
   },
   "file_extension": ".py",
   "mimetype": "text/x-python",
   "name": "python",
   "nbconvert_exporter": "python",
   "pygments_lexer": "ipython3",
   "version": "3.11.6"
  }
 },
 "nbformat": 4,
 "nbformat_minor": 5
}
