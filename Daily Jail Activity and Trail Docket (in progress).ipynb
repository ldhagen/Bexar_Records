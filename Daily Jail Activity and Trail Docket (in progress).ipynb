{
 "cells": [
  {
   "cell_type": "markdown",
   "metadata": {},
   "source": [
    "Building daily archive of https://apps.bexar.org/jailactivity/KB50061D20220918.txt type jail reports which appear to be online for 10 days or so"
   ]
  },
  {
   "cell_type": "code",
   "execution_count": null,
   "metadata": {},
   "outputs": [],
   "source": [
    "import pickle, ssl"
   ]
  },
  {
   "cell_type": "code",
   "execution_count": null,
   "metadata": {},
   "outputs": [],
   "source": [
    "ssl._create_default_https_context = ssl._create_unverified_context"
   ]
  },
  {
   "cell_type": "code",
   "execution_count": null,
   "metadata": {},
   "outputs": [],
   "source": [
    "!wget --no-check-certificate 'https://apps.bexar.org/jailactivity/KB50061D20220928.txt'"
   ]
  },
  {
   "cell_type": "code",
   "execution_count": null,
   "metadata": {},
   "outputs": [],
   "source": [
    "!ls -al *.t"
   ]
  },
  {
   "cell_type": "code",
   "execution_count": 36,
   "metadata": {},
   "outputs": [
    {
     "name": "stdout",
     "output_type": "stream",
     "text": [
      "Crim_Monday.pdf\n",
      "https://edocs.bexar.org/dc/Crim_Monday.pdf\n",
      "--2022-09-27 09:46:32--  https://edocs.bexar.org/dc/Crim_Monday.pdf\n",
      "Resolving edocs.bexar.org (edocs.bexar.org)... 208.83.180.55\n",
      "Connecting to edocs.bexar.org (edocs.bexar.org)|208.83.180.55|:443... connected.\n",
      "WARNING: cannot verify edocs.bexar.org's certificate, issued by ‘CN=Go Daddy Secure Certificate Authority - G2,OU=http://certs.godaddy.com/repository/,O=GoDaddy.com\\\\, Inc.,L=Scottsdale,ST=Arizona,C=US’:\n",
      "  Unable to locally verify the issuer's authority.\n",
      "HTTP request sent, awaiting response... 200 OK\n",
      "Length: 250259 (244K) [application/pdf]\n",
      "Saving to: ‘Crim_Monday.pdf.1’\n",
      "\n",
      "Crim_Monday.pdf.1   100%[===================>] 244.39K  92.9KB/s    in 2.6s    \n",
      "\n",
      "2022-09-27 09:46:35 (92.9 KB/s) - ‘Crim_Monday.pdf.1’ saved [250259/250259]\n",
      "\n",
      "Crim_Tuesday.pdf\n",
      "https://edocs.bexar.org/dc/Crim_Tuesday.pdf\n",
      "--2022-09-27 09:46:35--  https://edocs.bexar.org/dc/Crim_Tuesday.pdf\n",
      "Resolving edocs.bexar.org (edocs.bexar.org)... 208.83.180.55\n",
      "Connecting to edocs.bexar.org (edocs.bexar.org)|208.83.180.55|:443... connected.\n",
      "WARNING: cannot verify edocs.bexar.org's certificate, issued by ‘CN=Go Daddy Secure Certificate Authority - G2,OU=http://certs.godaddy.com/repository/,O=GoDaddy.com\\\\, Inc.,L=Scottsdale,ST=Arizona,C=US’:\n",
      "  Unable to locally verify the issuer's authority.\n",
      "HTTP request sent, awaiting response... 200 OK\n",
      "Length: 106052 (104K) [application/pdf]\n",
      "Saving to: ‘Crim_Tuesday.pdf.1’\n",
      "\n",
      "Crim_Tuesday.pdf.1  100%[===================>] 103.57K  --.-KB/s    in 0.09s   \n",
      "\n",
      "2022-09-27 09:46:35 (1.11 MB/s) - ‘Crim_Tuesday.pdf.1’ saved [106052/106052]\n",
      "\n",
      "Crim_Wednesday.pdf\n",
      "https://edocs.bexar.org/dc/Crim_Wednesday.pdf\n",
      "--2022-09-27 09:46:35--  https://edocs.bexar.org/dc/Crim_Wednesday.pdf\n",
      "Resolving edocs.bexar.org (edocs.bexar.org)... 208.83.180.55\n",
      "Connecting to edocs.bexar.org (edocs.bexar.org)|208.83.180.55|:443... connected.\n",
      "WARNING: cannot verify edocs.bexar.org's certificate, issued by ‘CN=Go Daddy Secure Certificate Authority - G2,OU=http://certs.godaddy.com/repository/,O=GoDaddy.com\\\\, Inc.,L=Scottsdale,ST=Arizona,C=US’:\n",
      "  Unable to locally verify the issuer's authority.\n",
      "HTTP request sent, awaiting response... 200 OK\n",
      "Length: 154702 (151K) [application/pdf]\n",
      "Saving to: ‘Crim_Wednesday.pdf.1’\n",
      "\n",
      "Crim_Wednesday.pdf. 100%[===================>] 151.08K  89.0KB/s    in 1.7s    \n",
      "\n",
      "2022-09-27 09:46:37 (89.0 KB/s) - ‘Crim_Wednesday.pdf.1’ saved [154702/154702]\n",
      "\n",
      "Crim_Thursday.pdf\n",
      "https://edocs.bexar.org/dc/Crim_Thursday.pdf\n",
      "--2022-09-27 09:46:37--  https://edocs.bexar.org/dc/Crim_Thursday.pdf\n",
      "Resolving edocs.bexar.org (edocs.bexar.org)... 208.83.180.55\n",
      "Connecting to edocs.bexar.org (edocs.bexar.org)|208.83.180.55|:443... connected.\n",
      "WARNING: cannot verify edocs.bexar.org's certificate, issued by ‘CN=Go Daddy Secure Certificate Authority - G2,OU=http://certs.godaddy.com/repository/,O=GoDaddy.com\\\\, Inc.,L=Scottsdale,ST=Arizona,C=US’:\n",
      "  Unable to locally verify the issuer's authority.\n",
      "HTTP request sent, awaiting response... 200 OK\n",
      "Length: 72214 (71K) [application/pdf]\n",
      "Saving to: ‘Crim_Thursday.pdf.1’\n",
      "\n",
      "Crim_Thursday.pdf.1 100%[===================>]  70.52K  --.-KB/s    in 0.1s    \n",
      "\n",
      "2022-09-27 09:46:38 (487 KB/s) - ‘Crim_Thursday.pdf.1’ saved [72214/72214]\n",
      "\n",
      "Crim_Friday.pdf\n",
      "https://edocs.bexar.org/dc/Crim_Friday.pdf\n",
      "--2022-09-27 09:46:38--  https://edocs.bexar.org/dc/Crim_Friday.pdf\n",
      "Resolving edocs.bexar.org (edocs.bexar.org)... 208.83.180.55\n",
      "Connecting to edocs.bexar.org (edocs.bexar.org)|208.83.180.55|:443... connected.\n",
      "WARNING: cannot verify edocs.bexar.org's certificate, issued by ‘CN=Go Daddy Secure Certificate Authority - G2,OU=http://certs.godaddy.com/repository/,O=GoDaddy.com\\\\, Inc.,L=Scottsdale,ST=Arizona,C=US’:\n",
      "  Unable to locally verify the issuer's authority.\n",
      "HTTP request sent, awaiting response... 200 OK\n",
      "Length: 151899 (148K) [application/pdf]\n",
      "Saving to: ‘Crim_Friday.pdf.1’\n",
      "\n",
      "Crim_Friday.pdf.1   100%[===================>] 148.34K   806KB/s    in 0.2s    \n",
      "\n",
      "2022-09-27 09:46:38 (806 KB/s) - ‘Crim_Friday.pdf.1’ saved [151899/151899]\n",
      "\n"
     ]
    }
   ],
   "source": [
    "weekly_pdf_list = ['Crim_Monday.pdf', 'Crim_Tuesday.pdf', 'Crim_Wednesday.pdf', 'Crim_Thursday.pdf', 'Crim_Friday.pdf']\n",
    "for x in weekly_pdf_list:\n",
    "    print(x)\n",
    "    target = r'https://edocs.bexar.org/dc/' + x\n",
    "    print(target)\n",
    "    !wget --no-check-certificate $target"
   ]
  },
  {
   "cell_type": "code",
   "execution_count": 37,
   "metadata": {},
   "outputs": [
    {
     "name": "stdout",
     "output_type": "stream",
     "text": [
      "-rw-r--r-- 1 ldhagen ldhagen 151899 Sep 26 23:57 Crim_Friday.pdf\r\n",
      "-rw-r--r-- 1 ldhagen ldhagen 250259 Sep 20 23:58 Crim_Monday.pdf\r\n",
      "-rw-r--r-- 1 ldhagen ldhagen  72214 Sep 23 23:57 Crim_Thursday.pdf\r\n",
      "-rw-r--r-- 1 ldhagen ldhagen 106052 Sep 21 23:58 Crim_Tuesday.pdf\r\n",
      "-rw-r--r-- 1 ldhagen ldhagen 154702 Sep 22 23:58 Crim_Wednesday.pdf\r\n"
     ]
    }
   ],
   "source": [
    "!ls -al *.pdf"
   ]
  },
  {
   "cell_type": "code",
   "execution_count": 38,
   "metadata": {},
   "outputs": [
    {
     "name": "stdout",
     "output_type": "stream",
     "text": [
      "KB50061D20220923.txt:0B202233398   09 22 2022 2207 JOHNSON, ERNEST                  W M 00000000 2029 SUSAN             HARLINGEN, TX. 78550     TX0150000\r",
      "\r\n"
     ]
    }
   ],
   "source": [
    "!grep ERNEST *.txt | grep JOHNSON"
   ]
  },
  {
   "cell_type": "code",
   "execution_count": 39,
   "metadata": {},
   "outputs": [
    {
     "name": "stdout",
     "output_type": "stream",
     "text": [
      "Crim_Friday.pdf:(2021CR6913       JAL MCMILLIAN, LEROY         \\(03\\)  R AGG ASSLT W/DEADLY WPN  A ACEVEDO III,ERNEST               _______________ 701)'\r",
      "\r\n",
      "Crim_Friday.pdf:(2021CR6914       JAL MCMILLIAN, LEROY         \\(03\\)  R DEADLY CONDUCT-FIREARM  A ACEVEDO III,ERNEST               _______________ 701)'\r",
      "\r\n",
      "Crim_Monday.pdf:(2022CR7740       BND LOZANO, ERNESTO          \\(01\\)    THEFT $30,000 TO < $15  A PEREZ, ROGER A                   _______________)'\r",
      "\r\n",
      "Crim_Monday.pdf:(2022CR1601       JAL RODRIGUEZ, ERNEST        \\(03\\)    INTOXICATION MANSLAUGH  A PEREZ JR, JOHN G                 _______________ 401)'\r",
      "\r\n",
      "Crim_Monday.pdf:(2021CR3575       BND ORTIZ, RAYMOND           \\(07\\)  R DRIVING WHILE INTOXICA  H ACEVEDO, JR JR, ERNEST           _______________)'\r",
      "\r\n",
      "Crim_Monday.pdf:(2021CR10267      BND GALINDO, ERNESTO JAVIER  \\(02\\)    REPEATED VIOL CT ORD/B  A PADILLA, JAVIER                  _______________ 701)'\r",
      "\r\n",
      "Crim_Thursday.pdf:(2022CR2265       BND PALMERI, GIOVANNI        \\(03\\)    DRIVING WHILE INTOXICA  H ACEVEDO III,ERNEST               _______________)'\r",
      "\r\n",
      "Crim_Tuesday.pdf:(2022CR5335       BND SOTO, ERNESTO FIDENCIO   \\(03\\)    UNAUTH USE VEH          A SIMPSON, KYLE                    _______________)'\r",
      "\r\n",
      "Crim_Wednesday.pdf:(2021CR7589C      BND COTTO, EMMANUEL          \\(07\\)    AGG ASSLT W/DEADLY WPN  A ACEVEDO III,ERNEST               _______________)'\r",
      "\r\n"
     ]
    }
   ],
   "source": [
    "!grep ERNEST *.pdf"
   ]
  },
  {
   "cell_type": "code",
   "execution_count": null,
   "metadata": {},
   "outputs": [],
   "source": []
  }
 ],
 "metadata": {
  "kernelspec": {
   "display_name": "Python 3",
   "language": "python",
   "name": "python3"
  },
  "language_info": {
   "codemirror_mode": {
    "name": "ipython",
    "version": 3
   },
   "file_extension": ".py",
   "mimetype": "text/x-python",
   "name": "python",
   "nbconvert_exporter": "python",
   "pygments_lexer": "ipython3",
   "version": "3.8.10"
  }
 },
 "nbformat": 4,
 "nbformat_minor": 4
}
