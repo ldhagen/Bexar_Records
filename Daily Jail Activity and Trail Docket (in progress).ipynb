{
 "cells": [
  {
   "cell_type": "markdown",
   "metadata": {},
   "source": [
    "Building daily archive of https://apps.bexar.org/jailactivity/KB50061D20220918.txt type jail reports which appear to be online for 10 days or so"
   ]
  },
  {
   "cell_type": "code",
   "execution_count": 1,
   "metadata": {},
   "outputs": [],
   "source": [
    "import pickle, ssl"
   ]
  },
  {
   "cell_type": "code",
   "execution_count": 2,
   "metadata": {},
   "outputs": [],
   "source": [
    "ssl._create_default_https_context = ssl._create_unverified_context"
   ]
  },
  {
   "cell_type": "code",
   "execution_count": 3,
   "metadata": {},
   "outputs": [
    {
     "name": "stdout",
     "output_type": "stream",
     "text": [
      "--2022-09-27 17:01:23--  https://apps.bexar.org/jailactivity/KB50061D20220928.txt\n",
      "Resolving apps.bexar.org (apps.bexar.org)... 208.83.180.56\n",
      "Connecting to apps.bexar.org (apps.bexar.org)|208.83.180.56|:443... connected.\n",
      "WARNING: cannot verify apps.bexar.org's certificate, issued by ‘CN=Go Daddy Secure Certificate Authority - G2,OU=http://certs.godaddy.com/repository/,O=GoDaddy.com\\\\, Inc.,L=Scottsdale,ST=Arizona,C=US’:\n",
      "  Unable to locally verify the issuer's authority.\n",
      "HTTP request sent, awaiting response... 404 Not Found\n",
      "2022-09-27 17:01:23 ERROR 404: Not Found.\n",
      "\n"
     ]
    }
   ],
   "source": [
    "!wget --no-check-certificate 'https://apps.bexar.org/jailactivity/KB50061D20220928.txt'"
   ]
  },
  {
   "cell_type": "code",
   "execution_count": 4,
   "metadata": {},
   "outputs": [
    {
     "name": "stdout",
     "output_type": "stream",
     "text": [
      "-rw-r--r-- 1 ldhagen ldhagen 151899 Sep 26 23:57 Crim_Friday.pdf\r\n",
      "-rw-r--r-- 1 ldhagen ldhagen 250259 Sep 20 23:58 Crim_Monday.pdf\r\n",
      "-rw-r--r-- 1 ldhagen ldhagen  72214 Sep 23 23:57 Crim_Thursday.pdf\r\n",
      "-rw-r--r-- 1 ldhagen ldhagen 106052 Sep 21 23:58 Crim_Tuesday.pdf\r\n",
      "-rw-r--r-- 1 ldhagen ldhagen 154702 Sep 22 23:58 Crim_Wednesday.pdf\r\n",
      "-rw-r--r-- 1 ldhagen ldhagen 250259 Sep 27 16:51 DocketFor09262022.pdf\r\n",
      "-rw-r--r-- 1 ldhagen ldhagen 106052 Sep 27 16:51 DocketFor09272022.pdf\r\n",
      "-rw-r--r-- 1 ldhagen ldhagen 154702 Sep 27 16:51 DocketFor09282022.pdf\r\n",
      "-rw-r--r-- 1 ldhagen ldhagen  72214 Sep 27 16:51 DocketFor09292022.pdf\r\n",
      "-rw-r--r-- 1 ldhagen ldhagen 151899 Sep 27 16:51 DocketFor09302022.pdf\r\n"
     ]
    }
   ],
   "source": [
    "!ls -al *.pdf*"
   ]
  },
  {
   "cell_type": "code",
   "execution_count": 5,
   "metadata": {},
   "outputs": [],
   "source": [
    "!rm C*.pdf*"
   ]
  },
  {
   "cell_type": "code",
   "execution_count": 6,
   "metadata": {},
   "outputs": [
    {
     "name": "stdout",
     "output_type": "stream",
     "text": [
      "Crim_Monday.pdf\n",
      "https://edocs.bexar.org/dc/Crim_Monday.pdf\n",
      "--2022-09-27 17:01:23--  https://edocs.bexar.org/dc/Crim_Monday.pdf\n",
      "Resolving edocs.bexar.org (edocs.bexar.org)... 208.83.180.55\n",
      "Connecting to edocs.bexar.org (edocs.bexar.org)|208.83.180.55|:443... connected.\n",
      "WARNING: cannot verify edocs.bexar.org's certificate, issued by ‘CN=Go Daddy Secure Certificate Authority - G2,OU=http://certs.godaddy.com/repository/,O=GoDaddy.com\\\\, Inc.,L=Scottsdale,ST=Arizona,C=US’:\n",
      "  Unable to locally verify the issuer's authority.\n",
      "HTTP request sent, awaiting response... 200 OK\n",
      "Length: 250259 (244K) [application/pdf]\n",
      "Saving to: ‘Crim_Monday.pdf’\n",
      "\n",
      "Crim_Monday.pdf     100%[===================>] 244.39K   940KB/s    in 0.3s    \n",
      "\n",
      "2022-09-27 17:01:24 (940 KB/s) - ‘Crim_Monday.pdf’ saved [250259/250259]\n",
      "\n",
      "09262022\n",
      "DocketFor09262022.pdf\n",
      "DocketFor09262022.pdf\n",
      "Crim_Tuesday.pdf\n",
      "https://edocs.bexar.org/dc/Crim_Tuesday.pdf\n",
      "--2022-09-27 17:01:24--  https://edocs.bexar.org/dc/Crim_Tuesday.pdf\n",
      "Resolving edocs.bexar.org (edocs.bexar.org)... 208.83.180.55\n",
      "Connecting to edocs.bexar.org (edocs.bexar.org)|208.83.180.55|:443... connected.\n",
      "WARNING: cannot verify edocs.bexar.org's certificate, issued by ‘CN=Go Daddy Secure Certificate Authority - G2,OU=http://certs.godaddy.com/repository/,O=GoDaddy.com\\\\, Inc.,L=Scottsdale,ST=Arizona,C=US’:\n",
      "  Unable to locally verify the issuer's authority.\n",
      "HTTP request sent, awaiting response... 200 OK\n",
      "Length: 106052 (104K) [application/pdf]\n",
      "Saving to: ‘Crim_Tuesday.pdf’\n",
      "\n",
      "Crim_Tuesday.pdf    100%[===================>] 103.57K   410KB/s    in 0.3s    \n",
      "\n",
      "2022-09-27 17:01:25 (410 KB/s) - ‘Crim_Tuesday.pdf’ saved [106052/106052]\n",
      "\n",
      "09272022\n",
      "DocketFor09272022.pdf\n",
      "DocketFor09272022.pdf\n",
      "Crim_Wednesday.pdf\n",
      "https://edocs.bexar.org/dc/Crim_Wednesday.pdf\n",
      "--2022-09-27 17:01:25--  https://edocs.bexar.org/dc/Crim_Wednesday.pdf\n",
      "Resolving edocs.bexar.org (edocs.bexar.org)... 208.83.180.55\n",
      "Connecting to edocs.bexar.org (edocs.bexar.org)|208.83.180.55|:443... connected.\n",
      "WARNING: cannot verify edocs.bexar.org's certificate, issued by ‘CN=Go Daddy Secure Certificate Authority - G2,OU=http://certs.godaddy.com/repository/,O=GoDaddy.com\\\\, Inc.,L=Scottsdale,ST=Arizona,C=US’:\n",
      "  Unable to locally verify the issuer's authority.\n",
      "HTTP request sent, awaiting response... 200 OK\n",
      "Length: 154702 (151K) [application/pdf]\n",
      "Saving to: ‘Crim_Wednesday.pdf’\n",
      "\n",
      "Crim_Wednesday.pdf  100%[===================>] 151.08K   648KB/s    in 0.2s    \n",
      "\n",
      "2022-09-27 17:01:26 (648 KB/s) - ‘Crim_Wednesday.pdf’ saved [154702/154702]\n",
      "\n",
      "09282022\n",
      "DocketFor09282022.pdf\n",
      "DocketFor09282022.pdf\n",
      "Crim_Thursday.pdf\n",
      "https://edocs.bexar.org/dc/Crim_Thursday.pdf\n",
      "--2022-09-27 17:01:26--  https://edocs.bexar.org/dc/Crim_Thursday.pdf\n",
      "Resolving edocs.bexar.org (edocs.bexar.org)... 208.83.180.55\n",
      "Connecting to edocs.bexar.org (edocs.bexar.org)|208.83.180.55|:443... connected.\n",
      "WARNING: cannot verify edocs.bexar.org's certificate, issued by ‘CN=Go Daddy Secure Certificate Authority - G2,OU=http://certs.godaddy.com/repository/,O=GoDaddy.com\\\\, Inc.,L=Scottsdale,ST=Arizona,C=US’:\n",
      "  Unable to locally verify the issuer's authority.\n",
      "HTTP request sent, awaiting response... 200 OK\n",
      "Length: 72214 (71K) [application/pdf]\n",
      "Saving to: ‘Crim_Thursday.pdf’\n",
      "\n",
      "Crim_Thursday.pdf   100%[===================>]  70.52K  70.6KB/s    in 1.0s    \n",
      "\n",
      "2022-09-27 17:01:27 (70.6 KB/s) - ‘Crim_Thursday.pdf’ saved [72214/72214]\n",
      "\n",
      "09292022\n",
      "DocketFor09292022.pdf\n",
      "DocketFor09292022.pdf\n",
      "Crim_Friday.pdf\n",
      "https://edocs.bexar.org/dc/Crim_Friday.pdf\n",
      "--2022-09-27 17:01:28--  https://edocs.bexar.org/dc/Crim_Friday.pdf\n",
      "Resolving edocs.bexar.org (edocs.bexar.org)... 208.83.180.55\n",
      "Connecting to edocs.bexar.org (edocs.bexar.org)|208.83.180.55|:443... connected.\n",
      "WARNING: cannot verify edocs.bexar.org's certificate, issued by ‘CN=Go Daddy Secure Certificate Authority - G2,OU=http://certs.godaddy.com/repository/,O=GoDaddy.com\\\\, Inc.,L=Scottsdale,ST=Arizona,C=US’:\n",
      "  Unable to locally verify the issuer's authority.\n",
      "HTTP request sent, awaiting response... 200 OK\n",
      "Length: 151899 (148K) [application/pdf]\n",
      "Saving to: ‘Crim_Friday.pdf’\n",
      "\n",
      "Crim_Friday.pdf     100%[===================>] 148.34K   945KB/s    in 0.2s    \n",
      "\n",
      "2022-09-27 17:01:28 (945 KB/s) - ‘Crim_Friday.pdf’ saved [151899/151899]\n",
      "\n",
      "09302022\n",
      "DocketFor09302022.pdf\n",
      "DocketFor09302022.pdf\n"
     ]
    }
   ],
   "source": [
    "weekly_pdf_list = ['Crim_Monday.pdf', 'Crim_Tuesday.pdf', 'Crim_Wednesday.pdf', 'Crim_Thursday.pdf', 'Crim_Friday.pdf']\n",
    "for x in weekly_pdf_list:\n",
    "    print(x)\n",
    "    target = r'https://edocs.bexar.org/dc/' + x\n",
    "    print(target)\n",
    "    !wget --no-check-certificate $target\n",
    "    docket_date = !grep 'DOCKET FOR' $x | cut -f 3 -d 'R' | cut -b 1-9 | head -1\n",
    "    julian_date = str(docket_date)[3:11]\n",
    "    print(julian_date)\n",
    "    julian_target = r'DocketFor' + julian_date + r'.pdf'\n",
    "    print(julian_target)\n",
    "    !echo $julian_target\n",
    "    ! cp $x $julian_target"
   ]
  },
  {
   "cell_type": "code",
   "execution_count": 7,
   "metadata": {},
   "outputs": [
    {
     "name": "stdout",
     "output_type": "stream",
     "text": [
      "-rw-r--r-- 1 ldhagen ldhagen 151899 Sep 27 17:01 DocketFor09302022.pdf\r\n",
      "-rw-r--r-- 1 ldhagen ldhagen  72214 Sep 27 17:01 DocketFor09292022.pdf\r\n",
      "-rw-r--r-- 1 ldhagen ldhagen 154702 Sep 27 17:01 DocketFor09282022.pdf\r\n",
      "-rw-r--r-- 1 ldhagen ldhagen 106052 Sep 27 17:01 DocketFor09272022.pdf\r\n",
      "-rw-r--r-- 1 ldhagen ldhagen 250259 Sep 27 17:01 DocketFor09262022.pdf\r\n",
      "-rw-r--r-- 1 ldhagen ldhagen 151899 Sep 26 23:57 Crim_Friday.pdf\r\n",
      "-rw-r--r-- 1 ldhagen ldhagen  72214 Sep 23 23:57 Crim_Thursday.pdf\r\n",
      "-rw-r--r-- 1 ldhagen ldhagen 154702 Sep 22 23:58 Crim_Wednesday.pdf\r\n",
      "-rw-r--r-- 1 ldhagen ldhagen 106052 Sep 21 23:58 Crim_Tuesday.pdf\r\n",
      "-rw-r--r-- 1 ldhagen ldhagen 250259 Sep 20 23:58 Crim_Monday.pdf\r\n"
     ]
    }
   ],
   "source": [
    "!ls -alt *.pdf*"
   ]
  },
  {
   "cell_type": "code",
   "execution_count": 8,
   "metadata": {},
   "outputs": [
    {
     "name": "stdout",
     "output_type": "stream",
     "text": [
      "-rw-r--r-- 1 ldhagen ldhagen  94875 Sep 27 00:12 KB50061D20220927.txt\r\n",
      "-rw-r--r-- 1 ldhagen ldhagen  67206 Sep 26 00:12 KB50061D20220926.txt\r\n",
      "-rw-r--r-- 1 ldhagen ldhagen  84101 Sep 25 00:09 KB50061D20220925.txt\r\n",
      "-rw-r--r-- 1 ldhagen ldhagen 100698 Sep 24 00:12 KB50061D20220924.txt\r\n",
      "-rw-r--r-- 1 ldhagen ldhagen 140815 Sep 23 00:13 KB50061D20220923.txt\r\n",
      "-rw-r--r-- 1 ldhagen ldhagen 119565 Sep 22 00:10 KB50061D20220922.txt\r\n",
      "-rw-r--r-- 1 ldhagen ldhagen  98875 Sep 21 00:13 KB50061D20220921.txt\r\n",
      "-rw-r--r-- 1 ldhagen ldhagen  83102 Sep 20 00:10 KB50061D20220920.txt\r\n",
      "-rw-r--r-- 1 ldhagen ldhagen  79557 Sep 19 00:13 KB50061D20220919.txt\r\n",
      "-rw-r--r-- 1 ldhagen ldhagen  89570 Sep 18 00:10 KB50061D20220918.txt\r\n",
      "-rw-r--r-- 1 ldhagen ldhagen  91127 Nov 24  2021 KB50061D20211124.txt\r\n",
      "-rw-r--r-- 1 ldhagen ldhagen  81782 Oct 25  2021 KB50061D20211025.txt\r\n",
      "-rw-r--r-- 1 ldhagen ldhagen 102762 Oct 21  2021 KB50061D20211021.txt\r\n",
      "-rw-r--r-- 1 ldhagen ldhagen  71880 Oct 12  2021 KB50061D20211012.txt\r\n",
      "-rw-r--r-- 1 ldhagen ldhagen  75932 Oct 11  2021 KB50061D20211011.txt\r\n",
      "-rw-r--r-- 1 ldhagen ldhagen 117461 Oct  8  2021 KB50061D20211008.txt\r\n",
      "-rw-r--r-- 1 ldhagen ldhagen 101263 Oct  7  2021 KB50061D20211007.txt\r\n",
      "-rw-r--r-- 1 ldhagen ldhagen 110587 Oct  6  2021 KB50061D20211006.txt\r\n",
      "-rw-r--r-- 1 ldhagen ldhagen  72744 Oct  5  2021 KB50061D20211005.txt\r\n",
      "-rw-r--r-- 1 ldhagen ldhagen  69237 Oct  4  2021 KB50061D20211004.txt\r\n",
      "-rw-r--r-- 1 ldhagen ldhagen  69237 Oct  4  2021 KB50061D20211004.txt.1\r\n",
      "-rw-r--r-- 1 ldhagen ldhagen  69237 Oct  4  2021 KB50061D20211004.txt.2\r\n"
     ]
    }
   ],
   "source": [
    "!ls -alt *.txt*"
   ]
  },
  {
   "cell_type": "code",
   "execution_count": 11,
   "metadata": {},
   "outputs": [
    {
     "name": "stdout",
     "output_type": "stream",
     "text": [
      "KB50061D20220923.txt:0B202233398   09 22 2022 2207 JOHNSON, ERNEST                  W M 00000000 2029 SUSAN             HARLINGEN, TX. 78550     TX0150000\r",
      "\r\n"
     ]
    }
   ],
   "source": [
    "!grep ERNEST *.txt* | grep JOHNSON"
   ]
  },
  {
   "cell_type": "code",
   "execution_count": 12,
   "metadata": {
    "scrolled": true
   },
   "outputs": [],
   "source": [
    "!grep  EARNEST *.pdf* | grep JOHNSON "
   ]
  },
  {
   "cell_type": "code",
   "execution_count": null,
   "metadata": {},
   "outputs": [],
   "source": []
  }
 ],
 "metadata": {
  "kernelspec": {
   "display_name": "Python 3",
   "language": "python",
   "name": "python3"
  },
  "language_info": {
   "codemirror_mode": {
    "name": "ipython",
    "version": 3
   },
   "file_extension": ".py",
   "mimetype": "text/x-python",
   "name": "python",
   "nbconvert_exporter": "python",
   "pygments_lexer": "ipython3",
   "version": "3.8.10"
  }
 },
 "nbformat": 4,
 "nbformat_minor": 4
}
