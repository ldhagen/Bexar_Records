{
 "cells": [
  {
   "cell_type": "markdown",
   "metadata": {},
   "source": [
    "Building daily archive of https://apps.bexar.org/jailactivity/KB50061D20220918.txt type jail reports which appear to be online for 10 days or so"
   ]
  },
  {
   "cell_type": "code",
   "execution_count": 1,
   "metadata": {
    "scrolled": true
   },
   "outputs": [],
   "source": [
    "import pickle, ssl\n",
    "from datetime import date"
   ]
  },
  {
   "cell_type": "code",
   "execution_count": 2,
   "metadata": {
    "scrolled": true
   },
   "outputs": [],
   "source": [
    "ssl._create_default_https_context = ssl._create_unverified_context"
   ]
  },
  {
   "cell_type": "code",
   "execution_count": 3,
   "metadata": {
    "scrolled": true
   },
   "outputs": [],
   "source": [
    "target_url = r'https://apps.bexar.org/jailactivity/KB50061D' + date.today().strftime('%Y%m%d') + r'.txt'"
   ]
  },
  {
   "cell_type": "code",
   "execution_count": 4,
   "metadata": {
    "scrolled": true
   },
   "outputs": [
    {
     "name": "stdout",
     "output_type": "stream",
     "text": [
      "--2023-01-09 08:00:00--  https://apps.bexar.org/jailactivity/KB50061D20230109.txt\n",
      "Resolving apps.bexar.org (apps.bexar.org)... 208.83.180.56\n",
      "Connecting to apps.bexar.org (apps.bexar.org)|208.83.180.56|:443... connected.\n",
      "WARNING: cannot verify apps.bexar.org's certificate, issued by ‘CN=Go Daddy Secure Certificate Authority - G2,OU=http://certs.godaddy.com/repository/,O=GoDaddy.com\\\\, Inc.,L=Scottsdale,ST=Arizona,C=US’:\n",
      "  Unable to locally verify the issuer's authority.\n",
      "HTTP request sent, awaiting response... 200 OK\n",
      "Length: 66801 (65K) [text/plain]\n",
      "Saving to: ‘KB50061D20230109.txt’\n",
      "\n",
      "KB50061D20230109.tx 100%[===================>]  65.24K   311KB/s    in 0.2s    \n",
      "\n",
      "2023-01-09 08:00:02 (311 KB/s) - ‘KB50061D20230109.txt’ saved [66801/66801]\n",
      "\n"
     ]
    }
   ],
   "source": [
    "!wget --no-check-certificate $target_url"
   ]
  },
  {
   "cell_type": "code",
   "execution_count": 5,
   "metadata": {
    "scrolled": true
   },
   "outputs": [
    {
     "name": "stdout",
     "output_type": "stream",
     "text": [
      "-rw-r--r-- 1 ldhagen ldhagen 112456 Jan  2 23:59 Crim_Friday.pdf\r\n",
      "-rw-r--r-- 1 ldhagen ldhagen 321270 Jan  3 23:59 Crim_Monday.pdf\r\n",
      "-rw-r--r-- 1 ldhagen ldhagen  82700 Jan  6 23:59 Crim_Thursday.pdf\r\n",
      "-rw-r--r-- 1 ldhagen ldhagen 105873 Jan  4 23:59 Crim_Tuesday.pdf\r\n",
      "-rw-r--r-- 1 ldhagen ldhagen  98137 Jan  5 23:59 Crim_Wednesday.pdf\r\n",
      "-rw-r--r-- 1 ldhagen ldhagen  57082 Jan  3 07:59 DocketFor01032023.pdf\r\n",
      "-rw-r--r-- 1 ldhagen ldhagen 101483 Jan  4 08:35 DocketFor01042023.pdf\r\n",
      "-rw-r--r-- 1 ldhagen ldhagen  28468 Jan  5 08:54 DocketFor01052023.pdf\r\n",
      "-rw-r--r-- 1 ldhagen ldhagen 112456 Jan  8 10:35 DocketFor01062023.pdf\r\n",
      "-rw-r--r-- 1 ldhagen ldhagen 321270 Jan  8 10:35 DocketFor01092023.pdf\r\n",
      "-rw-r--r-- 1 ldhagen ldhagen  98137 Jan  8 10:35 DocketFor01112023.pdf\r\n",
      "-rw-r--r-- 1 ldhagen ldhagen  82700 Jan  8 10:35 DocketFor01122023.pdf\r\n",
      "-rw-r--r-- 1 ldhagen ldhagen 250259 Sep 27 17:01 DocketFor09262022.pdf\r\n",
      "-rw-r--r-- 1 ldhagen ldhagen 106052 Sep 27 17:01 DocketFor09272022.pdf\r\n",
      "-rw-r--r-- 1 ldhagen ldhagen 154702 Sep 28 14:47 DocketFor09282022.pdf\r\n",
      "-rw-r--r-- 1 ldhagen ldhagen  72214 Sep 29 07:36 DocketFor09292022.pdf\r\n",
      "-rw-r--r-- 1 ldhagen ldhagen 151899 Oct  3 08:05 DocketFor09302022.pdf\r\n",
      "-rw-r--r-- 1 ldhagen ldhagen 241899 Oct  4 08:22 DocketFor10032022.pdf\r\n",
      "-rw-r--r-- 1 ldhagen ldhagen  99100 Oct  4 08:22 DocketFor10042022.pdf\r\n",
      "-rw-r--r-- 1 ldhagen ldhagen 172606 Oct  5 07:51 DocketFor10052022.pdf\r\n",
      "-rw-r--r-- 1 ldhagen ldhagen  35756 Oct  6 08:06 DocketFor10062022.pdf\r\n",
      "-rw-r--r-- 1 ldhagen ldhagen 126131 Oct 10 08:08 DocketFor10072022.pdf\r\n",
      "-rw-r--r-- 1 ldhagen ldhagen 215407 Oct 11 08:02 DocketFor10102022.pdf\r\n",
      "-rw-r--r-- 1 ldhagen ldhagen  92946 Oct 11 08:02 DocketFor10112022.pdf\r\n",
      "-rw-r--r-- 1 ldhagen ldhagen 125846 Oct 12 08:27 DocketFor10122022.pdf\r\n",
      "-rw-r--r-- 1 ldhagen ldhagen  42217 Oct 13 07:59 DocketFor10132022.pdf\r\n",
      "-rw-r--r-- 1 ldhagen ldhagen 102446 Oct 17 07:34 DocketFor10142022.pdf\r\n",
      "-rw-r--r-- 1 ldhagen ldhagen 216257 Oct 18 07:54 DocketFor10172022.pdf\r\n",
      "-rw-r--r-- 1 ldhagen ldhagen 156336 Oct 18 07:54 DocketFor10182022.pdf\r\n",
      "-rw-r--r-- 1 ldhagen ldhagen 117724 Oct 19 08:17 DocketFor10192022.pdf\r\n",
      "-rw-r--r-- 1 ldhagen ldhagen  54191 Oct 20 08:48 DocketFor10202022.pdf\r\n",
      "-rw-r--r-- 1 ldhagen ldhagen 112472 Oct 24 08:04 DocketFor10212022.pdf\r\n",
      "-rw-r--r-- 1 ldhagen ldhagen 193292 Oct 25 08:13 DocketFor10242022.pdf\r\n",
      "-rw-r--r-- 1 ldhagen ldhagen 102481 Oct 25 08:13 DocketFor10252022.pdf\r\n",
      "-rw-r--r-- 1 ldhagen ldhagen 196738 Oct 26 07:53 DocketFor10262022.pdf\r\n",
      "-rw-r--r-- 1 ldhagen ldhagen  51116 Oct 27 08:24 DocketFor10272022.pdf\r\n",
      "-rw-r--r-- 1 ldhagen ldhagen 121826 Oct 31 07:54 DocketFor10282022.pdf\r\n",
      "-rw-r--r-- 1 ldhagen ldhagen 257032 Nov  1 08:21 DocketFor10312022.pdf\r\n",
      "-rw-r--r-- 1 ldhagen ldhagen 116834 Nov  1 08:21 DocketFor11012022.pdf\r\n",
      "-rw-r--r-- 1 ldhagen ldhagen 126151 Nov  2 10:55 DocketFor11022022.pdf\r\n",
      "-rw-r--r-- 1 ldhagen ldhagen  46555 Nov  3 08:13 DocketFor11032022.pdf\r\n",
      "-rw-r--r-- 1 ldhagen ldhagen 127699 Nov  7 14:40 DocketFor11042022.pdf\r\n",
      "-rw-r--r-- 1 ldhagen ldhagen 220581 Nov  8 08:13 DocketFor11072022.pdf\r\n",
      "-rw-r--r-- 1 ldhagen ldhagen  60095 Nov  8 08:13 DocketFor11082022.pdf\r\n",
      "-rw-r--r-- 1 ldhagen ldhagen 158860 Nov  9 10:25 DocketFor11092022.pdf\r\n",
      "-rw-r--r-- 1 ldhagen ldhagen  61493 Nov 10 08:02 DocketFor11102022.pdf\r\n",
      "-rw-r--r-- 1 ldhagen ldhagen   1763 Nov 14 08:19 DocketFor11112022.pdf\r\n",
      "-rw-r--r-- 1 ldhagen ldhagen 205726 Nov 15 08:22 DocketFor11142022.pdf\r\n",
      "-rw-r--r-- 1 ldhagen ldhagen  95215 Nov 15 08:22 DocketFor11152022.pdf\r\n",
      "-rw-r--r-- 1 ldhagen ldhagen 103169 Nov 16 08:23 DocketFor11162022.pdf\r\n",
      "-rw-r--r-- 1 ldhagen ldhagen  70640 Nov 17 08:37 DocketFor11172022.pdf\r\n",
      "-rw-r--r-- 1 ldhagen ldhagen 140918 Nov 21 08:32 DocketFor11182022.pdf\r\n",
      "-rw-r--r-- 1 ldhagen ldhagen  39610 Nov 22 08:01 DocketFor11212022.pdf\r\n",
      "-rw-r--r-- 1 ldhagen ldhagen  32532 Nov 22 08:01 DocketFor11222022.pdf\r\n",
      "-rw-r--r-- 1 ldhagen ldhagen   8435 Nov 28 08:00 DocketFor11232022.pdf\r\n",
      "-rw-r--r-- 1 ldhagen ldhagen 263317 Nov 29 07:47 DocketFor11282022.pdf\r\n",
      "-rw-r--r-- 1 ldhagen ldhagen 121597 Nov 29 07:48 DocketFor11292022.pdf\r\n",
      "-rw-r--r-- 1 ldhagen ldhagen 143990 Nov 30 08:31 DocketFor11302022.pdf\r\n",
      "-rw-r--r-- 1 ldhagen ldhagen  75417 Dec  1 07:59 DocketFor12012022.pdf\r\n",
      "-rw-r--r-- 1 ldhagen ldhagen 126615 Dec  5 07:56 DocketFor12022022.pdf\r\n",
      "-rw-r--r-- 1 ldhagen ldhagen 239452 Dec  6 08:18 DocketFor12052022.pdf\r\n",
      "-rw-r--r-- 1 ldhagen ldhagen  84201 Dec  6 08:18 DocketFor12062022.pdf\r\n",
      "-rw-r--r-- 1 ldhagen ldhagen 112979 Dec  7 07:49 DocketFor12072022.pdf\r\n",
      "-rw-r--r-- 1 ldhagen ldhagen  56638 Dec  8 08:50 DocketFor12082022.pdf\r\n",
      "-rw-r--r-- 1 ldhagen ldhagen  93008 Dec 12 08:03 DocketFor12092022.pdf\r\n",
      "-rw-r--r-- 1 ldhagen ldhagen 217795 Dec 13 07:50 DocketFor12122022.pdf\r\n",
      "-rw-r--r-- 1 ldhagen ldhagen 107967 Dec 13 07:50 DocketFor12132022.pdf\r\n",
      "-rw-r--r-- 1 ldhagen ldhagen 117967 Dec 14 07:43 DocketFor12142022.pdf\r\n",
      "-rw-r--r-- 1 ldhagen ldhagen  60501 Dec 15 07:36 DocketFor12152022.pdf\r\n",
      "-rw-r--r-- 1 ldhagen ldhagen  73379 Dec 19 08:10 DocketFor12162022.pdf\r\n",
      "-rw-r--r-- 1 ldhagen ldhagen 140186 Dec 20 07:44 DocketFor12192022.pdf\r\n",
      "-rw-r--r-- 1 ldhagen ldhagen  38959 Dec 20 07:45 DocketFor12202022.pdf\r\n",
      "-rw-r--r-- 1 ldhagen ldhagen  50786 Dec 21 06:47 DocketFor12212022.pdf\r\n",
      "-rw-r--r-- 1 ldhagen ldhagen   2433 Dec 28 08:05 DocketFor12282022.pdf\r\n",
      "-rw-r--r-- 1 ldhagen ldhagen   2737 Dec 29 15:38 DocketFor12292022.pdf\r\n",
      "-rw-r--r-- 1 ldhagen ldhagen   1379 Dec 27 08:44 DocketFor].pdf\r\n"
     ]
    }
   ],
   "source": [
    "!ls -al *.pdf*"
   ]
  },
  {
   "cell_type": "code",
   "execution_count": 6,
   "metadata": {
    "scrolled": true
   },
   "outputs": [],
   "source": [
    "!rm C*.pdf*"
   ]
  },
  {
   "cell_type": "code",
   "execution_count": 7,
   "metadata": {
    "scrolled": true
   },
   "outputs": [
    {
     "name": "stdout",
     "output_type": "stream",
     "text": [
      "Crim_Monday.pdf\n",
      "https://edocs.bexar.org/dc/Crim_Monday.pdf\n",
      "--2023-01-09 08:00:02--  https://edocs.bexar.org/dc/Crim_Monday.pdf\n",
      "Resolving edocs.bexar.org (edocs.bexar.org)... 208.83.180.55\n",
      "Connecting to edocs.bexar.org (edocs.bexar.org)|208.83.180.55|:443... connected.\n",
      "WARNING: cannot verify edocs.bexar.org's certificate, issued by ‘CN=Go Daddy Secure Certificate Authority - G2,OU=http://certs.godaddy.com/repository/,O=GoDaddy.com\\\\, Inc.,L=Scottsdale,ST=Arizona,C=US’:\n",
      "  Unable to locally verify the issuer's authority.\n",
      "HTTP request sent, awaiting response... 200 OK\n",
      "Length: 321270 (314K) [application/pdf]\n",
      "Saving to: ‘Crim_Monday.pdf’\n",
      "\n",
      "Crim_Monday.pdf     100%[===================>] 313.74K  86.7KB/s    in 3.6s    \n",
      "\n",
      "2023-01-09 08:00:07 (86.7 KB/s) - ‘Crim_Monday.pdf’ saved [321270/321270]\n",
      "\n",
      "01092023\n",
      "DocketFor01092023.pdf\n",
      "DocketFor01092023.pdf\n",
      "Crim_Tuesday.pdf\n",
      "https://edocs.bexar.org/dc/Crim_Tuesday.pdf\n",
      "--2023-01-09 08:00:07--  https://edocs.bexar.org/dc/Crim_Tuesday.pdf\n",
      "Resolving edocs.bexar.org (edocs.bexar.org)... 208.83.180.55\n",
      "Connecting to edocs.bexar.org (edocs.bexar.org)|208.83.180.55|:443... connected.\n",
      "WARNING: cannot verify edocs.bexar.org's certificate, issued by ‘CN=Go Daddy Secure Certificate Authority - G2,OU=http://certs.godaddy.com/repository/,O=GoDaddy.com\\\\, Inc.,L=Scottsdale,ST=Arizona,C=US’:\n",
      "  Unable to locally verify the issuer's authority.\n",
      "HTTP request sent, awaiting response... 200 OK\n",
      "Length: 105873 (103K) [application/pdf]\n",
      "Saving to: ‘Crim_Tuesday.pdf’\n",
      "\n",
      "Crim_Tuesday.pdf    100%[===================>] 103.39K  80.0KB/s    in 1.3s    \n",
      "\n",
      "2023-01-09 08:00:09 (80.0 KB/s) - ‘Crim_Tuesday.pdf’ saved [105873/105873]\n",
      "\n",
      "inary fi\n",
      "DocketForinary fi.pdf\n",
      "DocketForinary fi.pdf\n",
      "cp: target 'fi.pdf' is not a directory\n",
      "Crim_Wednesday.pdf\n",
      "https://edocs.bexar.org/dc/Crim_Wednesday.pdf\n",
      "--2023-01-09 08:00:10--  https://edocs.bexar.org/dc/Crim_Wednesday.pdf\n",
      "Resolving edocs.bexar.org (edocs.bexar.org)... 208.83.180.55\n",
      "Connecting to edocs.bexar.org (edocs.bexar.org)|208.83.180.55|:443... connected.\n",
      "WARNING: cannot verify edocs.bexar.org's certificate, issued by ‘CN=Go Daddy Secure Certificate Authority - G2,OU=http://certs.godaddy.com/repository/,O=GoDaddy.com\\\\, Inc.,L=Scottsdale,ST=Arizona,C=US’:\n",
      "  Unable to locally verify the issuer's authority.\n",
      "HTTP request sent, awaiting response... 200 OK\n",
      "Length: 98137 (96K) [application/pdf]\n",
      "Saving to: ‘Crim_Wednesday.pdf’\n",
      "\n",
      "Crim_Wednesday.pdf  100%[===================>]  95.84K  57.2KB/s    in 1.7s    \n",
      "\n",
      "2023-01-09 08:00:12 (57.2 KB/s) - ‘Crim_Wednesday.pdf’ saved [98137/98137]\n",
      "\n",
      "01112023\n",
      "DocketFor01112023.pdf\n",
      "DocketFor01112023.pdf\n",
      "Crim_Thursday.pdf\n",
      "https://edocs.bexar.org/dc/Crim_Thursday.pdf\n",
      "--2023-01-09 08:00:12--  https://edocs.bexar.org/dc/Crim_Thursday.pdf\n",
      "Resolving edocs.bexar.org (edocs.bexar.org)... 208.83.180.55\n",
      "Connecting to edocs.bexar.org (edocs.bexar.org)|208.83.180.55|:443... connected.\n",
      "WARNING: cannot verify edocs.bexar.org's certificate, issued by ‘CN=Go Daddy Secure Certificate Authority - G2,OU=http://certs.godaddy.com/repository/,O=GoDaddy.com\\\\, Inc.,L=Scottsdale,ST=Arizona,C=US’:\n",
      "  Unable to locally verify the issuer's authority.\n",
      "HTTP request sent, awaiting response... 200 OK\n",
      "Length: 82700 (81K) [application/pdf]\n",
      "Saving to: ‘Crim_Thursday.pdf’\n",
      "\n",
      "Crim_Thursday.pdf   100%[===================>]  80.76K   160KB/s    in 0.5s    \n",
      "\n",
      "2023-01-09 08:00:13 (160 KB/s) - ‘Crim_Thursday.pdf’ saved [82700/82700]\n",
      "\n",
      "01122023\n",
      "DocketFor01122023.pdf\n",
      "DocketFor01122023.pdf\n",
      "Crim_Friday.pdf\n",
      "https://edocs.bexar.org/dc/Crim_Friday.pdf\n",
      "--2023-01-09 08:00:14--  https://edocs.bexar.org/dc/Crim_Friday.pdf\n",
      "Resolving edocs.bexar.org (edocs.bexar.org)... 208.83.180.55\n",
      "Connecting to edocs.bexar.org (edocs.bexar.org)|208.83.180.55|:443... connected.\n",
      "WARNING: cannot verify edocs.bexar.org's certificate, issued by ‘CN=Go Daddy Secure Certificate Authority - G2,OU=http://certs.godaddy.com/repository/,O=GoDaddy.com\\\\, Inc.,L=Scottsdale,ST=Arizona,C=US’:\n",
      "  Unable to locally verify the issuer's authority.\n",
      "HTTP request sent, awaiting response... 200 OK\n",
      "Length: 112456 (110K) [application/pdf]\n",
      "Saving to: ‘Crim_Friday.pdf’\n",
      "\n",
      "Crim_Friday.pdf     100%[===================>] 109.82K  97.7KB/s    in 1.1s    \n",
      "\n",
      "2023-01-09 08:00:15 (97.7 KB/s) - ‘Crim_Friday.pdf’ saved [112456/112456]\n",
      "\n",
      "01062023\n",
      "DocketFor01062023.pdf\n",
      "DocketFor01062023.pdf\n"
     ]
    }
   ],
   "source": [
    "weekly_pdf_list = ['Crim_Monday.pdf', 'Crim_Tuesday.pdf', 'Crim_Wednesday.pdf', 'Crim_Thursday.pdf', 'Crim_Friday.pdf']\n",
    "for x in weekly_pdf_list:\n",
    "    print(x)\n",
    "    target = r'https://edocs.bexar.org/dc/' + x\n",
    "    print(target)\n",
    "    !wget --no-check-certificate $target\n",
    "    docket_date = !grep 'DOCKET FOR' $x | cut -f 3 -d 'R' | cut -b 1-9 | head -1\n",
    "    julian_date = str(docket_date)[3:11]\n",
    "    print(julian_date)\n",
    "    julian_target = r'DocketFor' + julian_date + r'.pdf'\n",
    "    print(julian_target)\n",
    "    !echo $julian_target\n",
    "    ! cp $x $julian_target"
   ]
  },
  {
   "cell_type": "code",
   "execution_count": 8,
   "metadata": {
    "scrolled": true
   },
   "outputs": [
    {
     "name": "stdout",
     "output_type": "stream",
     "text": [
      "-rw-r--r-- 1 ldhagen ldhagen 112456 Jan  9 08:00 DocketFor01062023.pdf\r\n",
      "-rw-r--r-- 1 ldhagen ldhagen  82700 Jan  9 08:00 DocketFor01122023.pdf\r\n",
      "-rw-r--r-- 1 ldhagen ldhagen  98137 Jan  9 08:00 DocketFor01112023.pdf\r\n",
      "-rw-r--r-- 1 ldhagen ldhagen 321270 Jan  9 08:00 DocketFor01092023.pdf\r\n",
      "-rw-r--r-- 1 ldhagen ldhagen  82700 Jan  6 23:59 Crim_Thursday.pdf\r\n",
      "-rw-r--r-- 1 ldhagen ldhagen  98137 Jan  5 23:59 Crim_Wednesday.pdf\r\n",
      "-rw-r--r-- 1 ldhagen ldhagen  28468 Jan  5 08:54 DocketFor01052023.pdf\r\n",
      "-rw-r--r-- 1 ldhagen ldhagen 105873 Jan  4 23:59 Crim_Tuesday.pdf\r\n",
      "-rw-r--r-- 1 ldhagen ldhagen 101483 Jan  4 08:35 DocketFor01042023.pdf\r\n",
      "-rw-r--r-- 1 ldhagen ldhagen 321270 Jan  3 23:59 Crim_Monday.pdf\r\n",
      "-rw-r--r-- 1 ldhagen ldhagen  57082 Jan  3 07:59 DocketFor01032023.pdf\r\n",
      "-rw-r--r-- 1 ldhagen ldhagen 112456 Jan  2 23:59 Crim_Friday.pdf\r\n",
      "-rw-r--r-- 1 ldhagen ldhagen   2737 Dec 29 15:38 DocketFor12292022.pdf\r\n",
      "-rw-r--r-- 1 ldhagen ldhagen   2433 Dec 28 08:05 DocketFor12282022.pdf\r\n",
      "-rw-r--r-- 1 ldhagen ldhagen   1379 Dec 27 08:44 DocketFor].pdf\r\n",
      "-rw-r--r-- 1 ldhagen ldhagen  50786 Dec 21 06:47 DocketFor12212022.pdf\r\n",
      "-rw-r--r-- 1 ldhagen ldhagen  38959 Dec 20 07:45 DocketFor12202022.pdf\r\n",
      "-rw-r--r-- 1 ldhagen ldhagen 140186 Dec 20 07:44 DocketFor12192022.pdf\r\n",
      "-rw-r--r-- 1 ldhagen ldhagen  73379 Dec 19 08:10 DocketFor12162022.pdf\r\n",
      "-rw-r--r-- 1 ldhagen ldhagen  60501 Dec 15 07:36 DocketFor12152022.pdf\r\n",
      "-rw-r--r-- 1 ldhagen ldhagen 117967 Dec 14 07:43 DocketFor12142022.pdf\r\n",
      "-rw-r--r-- 1 ldhagen ldhagen 107967 Dec 13 07:50 DocketFor12132022.pdf\r\n",
      "-rw-r--r-- 1 ldhagen ldhagen 217795 Dec 13 07:50 DocketFor12122022.pdf\r\n",
      "-rw-r--r-- 1 ldhagen ldhagen  93008 Dec 12 08:03 DocketFor12092022.pdf\r\n",
      "-rw-r--r-- 1 ldhagen ldhagen  56638 Dec  8 08:50 DocketFor12082022.pdf\r\n",
      "-rw-r--r-- 1 ldhagen ldhagen 112979 Dec  7 07:49 DocketFor12072022.pdf\r\n",
      "-rw-r--r-- 1 ldhagen ldhagen  84201 Dec  6 08:18 DocketFor12062022.pdf\r\n",
      "-rw-r--r-- 1 ldhagen ldhagen 239452 Dec  6 08:18 DocketFor12052022.pdf\r\n",
      "-rw-r--r-- 1 ldhagen ldhagen 126615 Dec  5 07:56 DocketFor12022022.pdf\r\n",
      "-rw-r--r-- 1 ldhagen ldhagen  75417 Dec  1 07:59 DocketFor12012022.pdf\r\n",
      "-rw-r--r-- 1 ldhagen ldhagen 143990 Nov 30 08:31 DocketFor11302022.pdf\r\n",
      "-rw-r--r-- 1 ldhagen ldhagen 121597 Nov 29 07:48 DocketFor11292022.pdf\r\n",
      "-rw-r--r-- 1 ldhagen ldhagen 263317 Nov 29 07:47 DocketFor11282022.pdf\r\n",
      "-rw-r--r-- 1 ldhagen ldhagen   8435 Nov 28 08:00 DocketFor11232022.pdf\r\n",
      "-rw-r--r-- 1 ldhagen ldhagen  32532 Nov 22 08:01 DocketFor11222022.pdf\r\n",
      "-rw-r--r-- 1 ldhagen ldhagen  39610 Nov 22 08:01 DocketFor11212022.pdf\r\n",
      "-rw-r--r-- 1 ldhagen ldhagen 140918 Nov 21 08:32 DocketFor11182022.pdf\r\n",
      "-rw-r--r-- 1 ldhagen ldhagen  70640 Nov 17 08:37 DocketFor11172022.pdf\r\n",
      "-rw-r--r-- 1 ldhagen ldhagen 103169 Nov 16 08:23 DocketFor11162022.pdf\r\n",
      "-rw-r--r-- 1 ldhagen ldhagen  95215 Nov 15 08:22 DocketFor11152022.pdf\r\n",
      "-rw-r--r-- 1 ldhagen ldhagen 205726 Nov 15 08:22 DocketFor11142022.pdf\r\n",
      "-rw-r--r-- 1 ldhagen ldhagen   1763 Nov 14 08:19 DocketFor11112022.pdf\r\n",
      "-rw-r--r-- 1 ldhagen ldhagen  61493 Nov 10 08:02 DocketFor11102022.pdf\r\n",
      "-rw-r--r-- 1 ldhagen ldhagen 158860 Nov  9 10:25 DocketFor11092022.pdf\r\n",
      "-rw-r--r-- 1 ldhagen ldhagen  60095 Nov  8 08:13 DocketFor11082022.pdf\r\n",
      "-rw-r--r-- 1 ldhagen ldhagen 220581 Nov  8 08:13 DocketFor11072022.pdf\r\n",
      "-rw-r--r-- 1 ldhagen ldhagen 127699 Nov  7 14:40 DocketFor11042022.pdf\r\n",
      "-rw-r--r-- 1 ldhagen ldhagen  46555 Nov  3 08:13 DocketFor11032022.pdf\r\n",
      "-rw-r--r-- 1 ldhagen ldhagen 126151 Nov  2 10:55 DocketFor11022022.pdf\r\n",
      "-rw-r--r-- 1 ldhagen ldhagen 116834 Nov  1 08:21 DocketFor11012022.pdf\r\n",
      "-rw-r--r-- 1 ldhagen ldhagen 257032 Nov  1 08:21 DocketFor10312022.pdf\r\n",
      "-rw-r--r-- 1 ldhagen ldhagen 121826 Oct 31 07:54 DocketFor10282022.pdf\r\n",
      "-rw-r--r-- 1 ldhagen ldhagen  51116 Oct 27 08:24 DocketFor10272022.pdf\r\n",
      "-rw-r--r-- 1 ldhagen ldhagen 196738 Oct 26 07:53 DocketFor10262022.pdf\r\n",
      "-rw-r--r-- 1 ldhagen ldhagen 102481 Oct 25 08:13 DocketFor10252022.pdf\r\n",
      "-rw-r--r-- 1 ldhagen ldhagen 193292 Oct 25 08:13 DocketFor10242022.pdf\r\n",
      "-rw-r--r-- 1 ldhagen ldhagen 112472 Oct 24 08:04 DocketFor10212022.pdf\r\n",
      "-rw-r--r-- 1 ldhagen ldhagen  54191 Oct 20 08:48 DocketFor10202022.pdf\r\n",
      "-rw-r--r-- 1 ldhagen ldhagen 117724 Oct 19 08:17 DocketFor10192022.pdf\r\n",
      "-rw-r--r-- 1 ldhagen ldhagen 156336 Oct 18 07:54 DocketFor10182022.pdf\r\n",
      "-rw-r--r-- 1 ldhagen ldhagen 216257 Oct 18 07:54 DocketFor10172022.pdf\r\n",
      "-rw-r--r-- 1 ldhagen ldhagen 102446 Oct 17 07:34 DocketFor10142022.pdf\r\n",
      "-rw-r--r-- 1 ldhagen ldhagen  42217 Oct 13 07:59 DocketFor10132022.pdf\r\n",
      "-rw-r--r-- 1 ldhagen ldhagen 125846 Oct 12 08:27 DocketFor10122022.pdf\r\n",
      "-rw-r--r-- 1 ldhagen ldhagen  92946 Oct 11 08:02 DocketFor10112022.pdf\r\n",
      "-rw-r--r-- 1 ldhagen ldhagen 215407 Oct 11 08:02 DocketFor10102022.pdf\r\n",
      "-rw-r--r-- 1 ldhagen ldhagen 126131 Oct 10 08:08 DocketFor10072022.pdf\r\n",
      "-rw-r--r-- 1 ldhagen ldhagen  35756 Oct  6 08:06 DocketFor10062022.pdf\r\n",
      "-rw-r--r-- 1 ldhagen ldhagen 172606 Oct  5 07:51 DocketFor10052022.pdf\r\n",
      "-rw-r--r-- 1 ldhagen ldhagen  99100 Oct  4 08:22 DocketFor10042022.pdf\r\n",
      "-rw-r--r-- 1 ldhagen ldhagen 241899 Oct  4 08:22 DocketFor10032022.pdf\r\n",
      "-rw-r--r-- 1 ldhagen ldhagen 151899 Oct  3 08:05 DocketFor09302022.pdf\r\n",
      "-rw-r--r-- 1 ldhagen ldhagen  72214 Sep 29 07:36 DocketFor09292022.pdf\r\n",
      "-rw-r--r-- 1 ldhagen ldhagen 154702 Sep 28 14:47 DocketFor09282022.pdf\r\n",
      "-rw-r--r-- 1 ldhagen ldhagen 106052 Sep 27 17:01 DocketFor09272022.pdf\r\n",
      "-rw-r--r-- 1 ldhagen ldhagen 250259 Sep 27 17:01 DocketFor09262022.pdf\r\n"
     ]
    }
   ],
   "source": [
    "!ls -alt *.pdf*"
   ]
  },
  {
   "cell_type": "code",
   "execution_count": 9,
   "metadata": {
    "scrolled": true
   },
   "outputs": [
    {
     "name": "stdout",
     "output_type": "stream",
     "text": [
      "-rw-r--r-- 1 ldhagen ldhagen  66801 Jan  9 00:11 KB50061D20230109.txt\r\n",
      "-rw-r--r-- 1 ldhagen ldhagen  85691 Jan  8 00:11 KB50061D20230108.txt\r\n",
      "-rw-r--r-- 1 ldhagen ldhagen 118997 Jan  7 00:11 KB50061D20230107.txt\r\n",
      "-rw-r--r-- 1 ldhagen ldhagen  89416 Jan  6 00:14 KB50061D20230106.txt\r\n",
      "-rw-r--r-- 1 ldhagen ldhagen 122486 Jan  5 00:11 KB50061D20230105.txt\r\n",
      "-rw-r--r-- 1 ldhagen ldhagen  85509 Jan  4 00:11 KB50061D20230104.txt\r\n",
      "-rw-r--r-- 1 ldhagen ldhagen  79616 Jan  3 00:11 KB50061D20230103.txt\r\n",
      "-rw-r--r-- 1 ldhagen ldhagen  84128 Jan  1 00:11 KB50061D20230101.txt\r\n",
      "-rw-r--r-- 1 ldhagen ldhagen  79383 Dec 31 00:11 KB50061D20221231.txt\r\n",
      "-rw-r--r-- 1 ldhagen ldhagen 137760 Dec 30 00:11 KB50061D20221230.txt\r\n",
      "-rw-r--r-- 1 ldhagen ldhagen  82159 Dec 29 00:11 KB50061D20221229.txt\r\n",
      "-rw-r--r-- 1 ldhagen ldhagen  85000 Dec 28 00:11 KB50061D20221228.txt\r\n",
      "-rw-r--r-- 1 ldhagen ldhagen  43158 Dec 27 00:11 KB50061D20221227.txt\r\n",
      "-rw-r--r-- 1 ldhagen ldhagen  52492 Dec 26 00:11 KB50061D20221226.txt\r\n",
      "-rw-r--r-- 1 ldhagen ldhagen  56692 Dec 25 00:11 KB50061D20221225.txt\r\n",
      "-rw-r--r-- 1 ldhagen ldhagen  76007 Dec 24 00:11 KB50061D20221224.txt\r\n",
      "-rw-r--r-- 1 ldhagen ldhagen  92073 Dec 23 00:11 KB50061D20221223.txt\r\n",
      "-rw-r--r-- 1 ldhagen ldhagen 103431 Dec 22 00:10 KB50061D20221222.txt\r\n",
      "-rw-r--r-- 1 ldhagen ldhagen 134442 Dec 21 00:10 KB50061D20221221.txt\r\n",
      "-rw-r--r-- 1 ldhagen ldhagen  87095 Dec 20 00:10 KB50061D20221220.txt\r\n",
      "-rw-r--r-- 1 ldhagen ldhagen  68116 Dec 19 00:10 KB50061D20221219.txt\r\n",
      "-rw-r--r-- 1 ldhagen ldhagen  90959 Dec 18 00:10 KB50061D20221218.txt\r\n",
      "-rw-r--r-- 1 ldhagen ldhagen 105773 Dec 17 00:10 KB50061D20221217.txt\r\n",
      "-rw-r--r-- 1 ldhagen ldhagen 135674 Dec 16 00:11 KB50061D20221216.txt\r\n",
      "-rw-r--r-- 1 ldhagen ldhagen 115234 Dec 15 00:11 KB50061D20221215.txt\r\n",
      "-rw-r--r-- 1 ldhagen ldhagen 113312 Dec 14 00:11 KB50061D20221214.txt\r\n",
      "-rw-r--r-- 1 ldhagen ldhagen  81672 Dec 13 00:11 KB50061D20221213.txt\r\n",
      "-rw-r--r-- 1 ldhagen ldhagen  67035 Dec 12 00:11 KB50061D20221212.txt\r\n",
      "-rw-r--r-- 1 ldhagen ldhagen  95264 Dec 11 00:11 KB50061D20221211.txt\r\n",
      "-rw-r--r-- 1 ldhagen ldhagen 110628 Dec 10 00:11 KB50061D20221210.txt\r\n",
      "-rw-r--r-- 1 ldhagen ldhagen 123544 Dec  9 00:11 KB50061D20221209.txt\r\n",
      "-rw-r--r-- 1 ldhagen ldhagen  95839 Dec  8 00:11 KB50061D20221208.txt\r\n",
      "-rw-r--r-- 1 ldhagen ldhagen  97240 Dec  7 00:11 KB50061D20221207.txt\r\n",
      "-rw-r--r-- 1 ldhagen ldhagen  86802 Dec  6 00:11 KB50061D20221206.txt\r\n",
      "-rw-r--r-- 1 ldhagen ldhagen  67023 Dec  5 00:11 KB50061D20221205.txt\r\n",
      "-rw-r--r-- 1 ldhagen ldhagen  91965 Dec  4 00:11 KB50061D20221204.txt\r\n",
      "-rw-r--r-- 1 ldhagen ldhagen  93613 Dec  3 00:11 KB50061D20221203.txt\r\n",
      "-rw-r--r-- 1 ldhagen ldhagen 103040 Dec  2 00:14 KB50061D20221202.txt\r\n",
      "-rw-r--r-- 1 ldhagen ldhagen  91883 Dec  1 00:13 KB50061D20221201.txt\r\n",
      "-rw-r--r-- 1 ldhagen ldhagen 106262 Nov 30 00:10 KB50061D20221130.txt\r\n",
      "-rw-r--r-- 1 ldhagen ldhagen  82079 Nov 29 00:10 KB50061D20221129.txt\r\n",
      "-rw-r--r-- 1 ldhagen ldhagen  60520 Nov 28 00:10 KB50061D20221128.txt\r\n",
      "-rw-r--r-- 1 ldhagen ldhagen  47032 Nov 27 00:10 KB50061D20221127.txt\r\n",
      "-rw-r--r-- 1 ldhagen ldhagen  47032 Nov 27 00:10 KB50061D20221127.txt.1\r\n",
      "-rw-r--r-- 1 ldhagen ldhagen  57853 Nov 26 00:10 KB50061D20221126.txt\r\n",
      "-rw-r--r-- 1 ldhagen ldhagen 100428 Nov 23 00:13 KB50061D20221123.txt\r\n",
      "-rw-r--r-- 1 ldhagen ldhagen  86094 Nov 22 00:13 KB50061D20221122.txt\r\n",
      "-rw-r--r-- 1 ldhagen ldhagen  69809 Nov 21 00:13 KB50061D20221121.txt\r\n",
      "-rw-r--r-- 1 ldhagen ldhagen  88782 Nov 20 00:10 KB50061D20221120.txt\r\n",
      "-rw-r--r-- 1 ldhagen ldhagen 107598 Nov 19 00:10 KB50061D20221119.txt\r\n",
      "-rw-r--r-- 1 ldhagen ldhagen 123478 Nov 18 00:13 KB50061D20221118.txt\r\n",
      "-rw-r--r-- 1 ldhagen ldhagen 123478 Nov 18 00:13 KB50061D20221118.txt.1\r\n",
      "-rw-r--r-- 1 ldhagen ldhagen 101404 Nov 17 00:10 KB50061D20221117.txt\r\n",
      "-rw-r--r-- 1 ldhagen ldhagen 147726 Nov 16 00:13 KB50061D20221116.txt\r\n",
      "-rw-r--r-- 1 ldhagen ldhagen  91668 Nov 15 00:13 KB50061D20221115.txt\r\n",
      "-rw-r--r-- 1 ldhagen ldhagen  85070 Nov 14 00:10 KB50061D20221114.txt\r\n",
      "-rw-r--r-- 1 ldhagen ldhagen  77018 Nov 13 00:10 KB50061D20221113.txt\r\n",
      "-rw-r--r-- 1 ldhagen ldhagen 116358 Nov 12 00:10 KB50061D20221112.txt\r\n",
      "-rw-r--r-- 1 ldhagen ldhagen 115517 Nov 11 00:10 KB50061D20221111.txt\r\n",
      "-rw-r--r-- 1 ldhagen ldhagen 109048 Nov 10 00:13 KB50061D20221110.txt\r\n",
      "-rw-r--r-- 1 ldhagen ldhagen 141150 Nov  9 00:13 KB50061D20221109.txt\r\n",
      "-rw-r--r-- 1 ldhagen ldhagen  88917 Nov  8 00:10 KB50061D20221108.txt\r\n",
      "-rw-r--r-- 1 ldhagen ldhagen  88642 Nov  7 00:10 KB50061D20221107.txt\r\n",
      "-rw-r--r-- 1 ldhagen ldhagen  85363 Nov  6 00:10 KB50061D20221106.txt\r\n",
      "-rw-r--r-- 1 ldhagen ldhagen 127446 Nov  5 00:13 KB50061D20221105.txt\r\n",
      "-rw-r--r-- 1 ldhagen ldhagen 127446 Nov  5 00:13 KB50061D20221105.txt.1\r\n",
      "-rw-r--r-- 1 ldhagen ldhagen 122162 Nov  4 00:13 KB50061D20221104.txt\r\n",
      "-rw-r--r-- 1 ldhagen ldhagen 117412 Nov  3 00:10 KB50061D20221103.txt\r\n",
      "-rw-r--r-- 1 ldhagen ldhagen 109340 Nov  2 00:10 KB50061D20221102.txt\r\n",
      "-rw-r--r-- 1 ldhagen ldhagen  90362 Nov  1 00:13 KB50061D20221101.txt\r\n",
      "-rw-r--r-- 1 ldhagen ldhagen  87338 Oct 30 00:10 KB50061D20221030.txt\r\n",
      "-rw-r--r-- 1 ldhagen ldhagen 107454 Oct 29 00:10 KB50061D20221029.txt\r\n",
      "-rw-r--r-- 1 ldhagen ldhagen 135978 Oct 28 00:10 KB50061D20221028.txt\r\n",
      "-rw-r--r-- 1 ldhagen ldhagen 126870 Oct 27 00:10 KB50061D20221027.txt\r\n",
      "-rw-r--r-- 1 ldhagen ldhagen 100299 Oct 26 00:13 KB50061D20221026.txt\r\n",
      "-rw-r--r-- 1 ldhagen ldhagen 106035 Oct 25 00:10 KB50061D20221025.txt\r\n",
      "-rw-r--r-- 1 ldhagen ldhagen  73687 Oct 24 00:13 KB50061D20221024.txt\r\n",
      "-rw-r--r-- 1 ldhagen ldhagen  99086 Oct 23 00:10 KB50061D20221023.txt\r\n",
      "-rw-r--r-- 1 ldhagen ldhagen 104488 Oct 22 00:10 KB50061D20221022.txt\r\n",
      "-rw-r--r-- 1 ldhagen ldhagen 171554 Oct 21 00:10 KB50061D20221021.txt\r\n",
      "-rw-r--r-- 1 ldhagen ldhagen 107059 Oct 20 00:10 KB50061D20221020.txt\r\n",
      "-rw-r--r-- 1 ldhagen ldhagen 107059 Oct 20 00:10 KB50061D20221020.txt.1\r\n",
      "-rw-r--r-- 1 ldhagen ldhagen 110999 Oct 19 00:13 KB50061D20221019.txt\r\n",
      "-rw-r--r-- 1 ldhagen ldhagen  87913 Oct 18 00:10 KB50061D20221018.txt\r\n",
      "-rw-r--r-- 1 ldhagen ldhagen  76472 Oct 17 00:13 KB50061D20221017.txt\r\n",
      "-rw-r--r-- 1 ldhagen ldhagen  90199 Oct 16 00:10 KB50061D20221016.txt\r\n",
      "-rw-r--r-- 1 ldhagen ldhagen 129568 Oct 15 00:13 KB50061D20221015.txt\r\n",
      "-rw-r--r-- 1 ldhagen ldhagen 112824 Oct 14 00:13 KB50061D20221014.txt\r\n",
      "-rw-r--r-- 1 ldhagen ldhagen 109467 Oct 13 00:10 KB50061D20221013.txt\r\n",
      "-rw-r--r-- 1 ldhagen ldhagen 116917 Oct 12 00:13 KB50061D20221012.txt\r\n",
      "-rw-r--r-- 1 ldhagen ldhagen  87665 Oct 11 00:10 KB50061D20221011.txt\r\n",
      "-rw-r--r-- 1 ldhagen ldhagen  71308 Oct 10 00:13 KB50061D20221010.txt\r\n",
      "-rw-r--r-- 1 ldhagen ldhagen  84647 Oct  9 00:10 KB50061D20221009.txt\r\n",
      "-rw-r--r-- 1 ldhagen ldhagen 120916 Oct  8 00:13 KB50061D20221008.txt\r\n",
      "-rw-r--r-- 1 ldhagen ldhagen 143349 Oct  7 00:13 KB50061D20221007.txt\r\n",
      "-rw-r--r-- 1 ldhagen ldhagen 119399 Oct  6 00:10 KB50061D20221006.txt\r\n",
      "-rw-r--r-- 1 ldhagen ldhagen 104923 Oct  5 00:13 KB50061D20221005.txt\r\n",
      "-rw-r--r-- 1 ldhagen ldhagen  99549 Oct  4 00:13 KB50061D20221004.txt\r\n",
      "-rw-r--r-- 1 ldhagen ldhagen  65620 Oct  3 00:13 KB50061D20221003.txt\r\n",
      "-rw-r--r-- 1 ldhagen ldhagen  92720 Oct  2 00:13 KB50061D20221002.txt\r\n",
      "-rw-r--r-- 1 ldhagen ldhagen 120448 Oct  1 00:13 KB50061D20221001.txt\r\n",
      "-rw-r--r-- 1 ldhagen ldhagen 152741 Sep 30 00:12 KB50061D20220930.txt\r\n",
      "-rw-r--r-- 1 ldhagen ldhagen 108239 Sep 29 00:09 KB50061D20220929.txt\r\n",
      "-rw-r--r-- 1 ldhagen ldhagen 137306 Sep 28 00:12 KB50061D20220928.txt\r\n",
      "-rw-r--r-- 1 ldhagen ldhagen 137306 Sep 28 00:12 KB50061D20220928.txt.10\r\n",
      "-rw-r--r-- 1 ldhagen ldhagen 137306 Sep 28 00:12 KB50061D20220928.txt.3\r\n",
      "-rw-r--r-- 1 ldhagen ldhagen 137306 Sep 28 00:12 KB50061D20220928.txt.4\r\n",
      "-rw-r--r-- 1 ldhagen ldhagen 137306 Sep 28 00:12 KB50061D20220928.txt.5\r\n",
      "-rw-r--r-- 1 ldhagen ldhagen 137306 Sep 28 00:12 KB50061D20220928.txt.6\r\n",
      "-rw-r--r-- 1 ldhagen ldhagen 137306 Sep 28 00:12 KB50061D20220928.txt.7\r\n",
      "-rw-r--r-- 1 ldhagen ldhagen 137306 Sep 28 00:12 KB50061D20220928.txt.8\r\n",
      "-rw-r--r-- 1 ldhagen ldhagen 137306 Sep 28 00:12 KB50061D20220928.txt.9\r\n",
      "-rw-r--r-- 1 ldhagen ldhagen  94875 Sep 27 00:12 KB50061D20220927.txt\r\n",
      "-rw-r--r-- 1 ldhagen ldhagen  67206 Sep 26 00:12 KB50061D20220926.txt\r\n",
      "-rw-r--r-- 1 ldhagen ldhagen  84101 Sep 25 00:09 KB50061D20220925.txt\r\n",
      "-rw-r--r-- 1 ldhagen ldhagen 100698 Sep 24 00:12 KB50061D20220924.txt\r\n",
      "-rw-r--r-- 1 ldhagen ldhagen 140815 Sep 23 00:13 KB50061D20220923.txt\r\n",
      "-rw-r--r-- 1 ldhagen ldhagen 119565 Sep 22 00:10 KB50061D20220922.txt\r\n",
      "-rw-r--r-- 1 ldhagen ldhagen  98875 Sep 21 00:13 KB50061D20220921.txt\r\n",
      "-rw-r--r-- 1 ldhagen ldhagen  83102 Sep 20 00:10 KB50061D20220920.txt\r\n",
      "-rw-r--r-- 1 ldhagen ldhagen  79557 Sep 19 00:13 KB50061D20220919.txt\r\n",
      "-rw-r--r-- 1 ldhagen ldhagen  89570 Sep 18 00:10 KB50061D20220918.txt\r\n",
      "-rw-r--r-- 1 ldhagen ldhagen  91127 Nov 24  2021 KB50061D20211124.txt\r\n",
      "-rw-r--r-- 1 ldhagen ldhagen  81782 Oct 25  2021 KB50061D20211025.txt\r\n",
      "-rw-r--r-- 1 ldhagen ldhagen 102762 Oct 21  2021 KB50061D20211021.txt\r\n",
      "-rw-r--r-- 1 ldhagen ldhagen  71880 Oct 12  2021 KB50061D20211012.txt\r\n",
      "-rw-r--r-- 1 ldhagen ldhagen  75932 Oct 11  2021 KB50061D20211011.txt\r\n",
      "-rw-r--r-- 1 ldhagen ldhagen 117461 Oct  8  2021 KB50061D20211008.txt\r\n",
      "-rw-r--r-- 1 ldhagen ldhagen 101263 Oct  7  2021 KB50061D20211007.txt\r\n",
      "-rw-r--r-- 1 ldhagen ldhagen 110587 Oct  6  2021 KB50061D20211006.txt\r\n",
      "-rw-r--r-- 1 ldhagen ldhagen  72744 Oct  5  2021 KB50061D20211005.txt\r\n",
      "-rw-r--r-- 1 ldhagen ldhagen  69237 Oct  4  2021 KB50061D20211004.txt\r\n"
     ]
    }
   ],
   "source": [
    "!ls -alt *.txt*"
   ]
  },
  {
   "cell_type": "code",
   "execution_count": 10,
   "metadata": {
    "scrolled": true
   },
   "outputs": [
    {
     "name": "stdout",
     "output_type": "stream",
     "text": [
      "KB50061D20220923.txt:0B202233398   09 22 2022 2207 JOHNSON, ERNEST                  W M 00000000 2029 SUSAN             HARLINGEN, TX. 78550     TX0150000\n",
      "KB50061D20221007.txt:0B202233398   09 22 2022 2207 JOHNSON, ERNEST                  W M 00000000 2029 SUSAN             HARLINGEN, TX. 78550     TX0150000\n"
     ]
    }
   ],
   "source": [
    "!grep ERNEST *.txt | grep JOHNSON"
   ]
  },
  {
   "cell_type": "code",
   "execution_count": 11,
   "metadata": {
    "scrolled": false
   },
   "outputs": [
    {
     "name": "stdout",
     "output_type": "stream",
     "text": [
      "Crim_Wednesday.pdf:(2022CR10997      BND JOHNSON, ERNEST          \\(01\\)    ONLINE SOL MINOR-MEET   A BROOKS, WILLIAM A                _______________ 196)'\r",
      "\r\n",
      "DocketFor01112023.pdf:(2022CR10997      BND JOHNSON, ERNEST          \\(01\\)    ONLINE SOL MINOR-MEET   A BROOKS, WILLIAM A                _______________ 196)'\r",
      "\r\n"
     ]
    }
   ],
   "source": [
    "!grep ERNEST *.pdf | grep JOHNSON"
   ]
  },
  {
   "cell_type": "code",
   "execution_count": 12,
   "metadata": {
    "scrolled": true
   },
   "outputs": [
    {
     "name": "stdout",
     "output_type": "stream",
     "text": [
      "KB50061D20221230.txt:0B202245241   12 29 2022 1145 BARNES, LARRY GENE               W M 00000000 3023 HEIDI             SAN ANTONIO, TX. 78247   TX0150000\r",
      "\r\n"
     ]
    }
   ],
   "source": [
    "!grep BARNES *.txt | grep LARRY"
   ]
  },
  {
   "cell_type": "code",
   "execution_count": 13,
   "metadata": {},
   "outputs": [],
   "source": [
    "!grep BARNES *.pdf | grep LARRY"
   ]
  },
  {
   "cell_type": "code",
   "execution_count": null,
   "metadata": {},
   "outputs": [],
   "source": []
  }
 ],
 "metadata": {
  "kernelspec": {
   "display_name": "Python 3",
   "language": "python",
   "name": "python3"
  },
  "language_info": {
   "codemirror_mode": {
    "name": "ipython",
    "version": 3
   },
   "file_extension": ".py",
   "mimetype": "text/x-python",
   "name": "python",
   "nbconvert_exporter": "python",
   "pygments_lexer": "ipython3",
   "version": "3.8.10"
  }
 },
 "nbformat": 4,
 "nbformat_minor": 4
}
