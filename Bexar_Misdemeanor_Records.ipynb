{
 "cells": [
  {
   "cell_type": "markdown",
   "metadata": {},
   "source": [
    "Work looking at https://www.bexar.org/2923/Misdemeanor-Records"
   ]
  },
  {
   "cell_type": "code",
   "execution_count": null,
   "metadata": {
    "scrolled": true
   },
   "outputs": [],
   "source": [
    "import pandas as pd\n",
    "import matplotlib.pyplot as plt\n",
    "import numpy as np\n",
    "import datetime\n",
    "import pickle\n",
    "%matplotlib inline"
   ]
  },
  {
   "cell_type": "code",
   "execution_count": null,
   "metadata": {
    "scrolled": true
   },
   "outputs": [],
   "source": [
    "!rm DC*.csv*"
   ]
  },
  {
   "cell_type": "code",
   "execution_count": null,
   "metadata": {
    "scrolled": true
   },
   "outputs": [],
   "source": [
    "!ls -alt *.csv*"
   ]
  },
  {
   "cell_type": "code",
   "execution_count": null,
   "metadata": {
    "scrolled": true
   },
   "outputs": [],
   "source": [
    "Bexar_Misdemeanor_A_df = pd.read_csv(r'http://edocs.bexar.org/cc/CC_cjjorad_a.csv',header=0, on_bad_lines='skip')"
   ]
  },
  {
   "cell_type": "code",
   "execution_count": null,
   "metadata": {
    "scrolled": true
   },
   "outputs": [],
   "source": [
    "Bexar_Misdemeanor_B_df = pd.read_csv(r'http://edocs.bexar.org/cc/CC_cjjorad_b.csv',header=0, on_bad_lines='skip')"
   ]
  },
  {
   "cell_type": "code",
   "execution_count": null,
   "metadata": {
    "scrolled": true
   },
   "outputs": [],
   "source": [
    "Bexar_Misdemeanor_C_CN_df = pd.read_csv(r'http://edocs.bexar.org/cc/CC_cjjorad_c_cn.csv',header=0, on_bad_lines='skip')"
   ]
  },
  {
   "cell_type": "code",
   "execution_count": null,
   "metadata": {
    "scrolled": true
   },
   "outputs": [],
   "source": [
    "Bexar_Misdemeanor_CO_CZ_df = pd.read_csv(r'http://edocs.bexar.org/cc/CC_cjjorad_co_cz.csv',header=0, on_bad_lines='skip')"
   ]
  },
  {
   "cell_type": "code",
   "execution_count": null,
   "metadata": {
    "scrolled": true
   },
   "outputs": [],
   "source": [
    "Bexar_Misdemeanor_D_df = pd.read_csv(r'http://edocs.bexar.org/cc/CC_cjjorad_d.csv',header=0, on_bad_lines='skip')"
   ]
  },
  {
   "cell_type": "code",
   "execution_count": null,
   "metadata": {
    "scrolled": true
   },
   "outputs": [],
   "source": [
    "Bexar_Misdemeanor_E_df = pd.read_csv(r'http://edocs.bexar.org/cc/CC_cjjorad_e.csv',header=0, on_bad_lines='skip')"
   ]
  },
  {
   "cell_type": "code",
   "execution_count": null,
   "metadata": {
    "scrolled": true
   },
   "outputs": [],
   "source": [
    "Bexar_Misdemeanor_F_df = pd.read_csv(r'http://edocs.bexar.org/cc/CC_cjjorad_f.csv',header=0, on_bad_lines='skip')"
   ]
  },
  {
   "cell_type": "code",
   "execution_count": null,
   "metadata": {
    "scrolled": true
   },
   "outputs": [],
   "source": [
    "Bexar_Misdemeanor_G_GN_df = pd.read_csv(r'http://edocs.bexar.org/cc/CC_cjjorad_g_gn.csv',header=0, on_bad_lines='skip')"
   ]
  },
  {
   "cell_type": "code",
   "execution_count": null,
   "metadata": {
    "scrolled": true
   },
   "outputs": [],
   "source": [
    "Bexar_Misdemeanor_GO_GY_df = pd.read_csv(r'http://edocs.bexar.org/cc/CC_cjjorad_go_gy.csv',header=0, on_bad_lines='skip')"
   ]
  },
  {
   "cell_type": "code",
   "execution_count": null,
   "metadata": {
    "scrolled": true
   },
   "outputs": [],
   "source": [
    "Bexar_Misdemeanor_H_df = pd.read_csv(r'http://edocs.bexar.org/cc/CC_cjjorad_h.csv',header=0, on_bad_lines='skip')"
   ]
  },
  {
   "cell_type": "code",
   "execution_count": null,
   "metadata": {
    "scrolled": true
   },
   "outputs": [],
   "source": [
    "Bexar_Misdemeanor_I_df = pd.read_csv(r'http://edocs.bexar.org/cc/CC_cjjorad_i.csv',header=0, on_bad_lines='skip')"
   ]
  },
  {
   "cell_type": "code",
   "execution_count": null,
   "metadata": {
    "scrolled": true
   },
   "outputs": [],
   "source": [
    "Bexar_Misdemeanor_J_df = pd.read_csv(r'http://edocs.bexar.org/cc/CC_cjjorad_j.csv',header=0, on_bad_lines='skip')"
   ]
  },
  {
   "cell_type": "code",
   "execution_count": null,
   "metadata": {
    "scrolled": true
   },
   "outputs": [],
   "source": [
    "Bexar_Misdemeanor_K_df = pd.read_csv(r'http://edocs.bexar.org/cc/CC_cjjorad_k.csv',header=0, on_bad_lines='skip')"
   ]
  },
  {
   "cell_type": "code",
   "execution_count": null,
   "metadata": {
    "scrolled": true
   },
   "outputs": [],
   "source": [
    "Bexar_Misdemeanor_L_df = pd.read_csv(r'http://edocs.bexar.org/cc/CC_cjjorad_l.csv',header=0, on_bad_lines='skip')"
   ]
  },
  {
   "cell_type": "code",
   "execution_count": null,
   "metadata": {
    "scrolled": true
   },
   "outputs": [],
   "source": [
    "Bexar_Misdemeanor_M_MD_df = pd.read_csv(r'http://edocs.bexar.org/cc/CC_cjjorad_m_md.csv',header=0, on_bad_lines='skip')"
   ]
  },
  {
   "cell_type": "code",
   "execution_count": null,
   "metadata": {
    "scrolled": true
   },
   "outputs": [],
   "source": [
    "Bexar_Misdemeanor_ME_MZ_df = pd.read_csv(r'http://edocs.bexar.org/cc/CC_cjjorad_me_mz.csv',header=0, on_bad_lines='skip')"
   ]
  },
  {
   "cell_type": "code",
   "execution_count": null,
   "metadata": {
    "scrolled": true
   },
   "outputs": [],
   "source": [
    "Bexar_Misdemeanor_N_df = pd.read_csv(r'http://edocs.bexar.org/cc/CC_cjjorad_n.csv',header=0, on_bad_lines='skip')"
   ]
  },
  {
   "cell_type": "code",
   "execution_count": null,
   "metadata": {
    "scrolled": true
   },
   "outputs": [],
   "source": [
    "Bexar_Misdemeanor_O_df = pd.read_csv(r'http://edocs.bexar.org/cc/CC_cjjorad_o.csv',header=0, on_bad_lines='skip', encoding=\"latin-1\")"
   ]
  },
  {
   "cell_type": "code",
   "execution_count": null,
   "metadata": {
    "scrolled": true
   },
   "outputs": [],
   "source": [
    "Bexar_Misdemeanor_P_df = pd.read_csv(r'http://edocs.bexar.org/cc/CC_cjjorad_p.csv',header=0, on_bad_lines='skip')"
   ]
  },
  {
   "cell_type": "code",
   "execution_count": null,
   "metadata": {
    "scrolled": true
   },
   "outputs": [],
   "source": [
    "Bexar_Misdemeanor_Q_df = pd.read_csv(r'http://edocs.bexar.org/cc/CC_cjjorad_q.csv',header=0, on_bad_lines='skip')"
   ]
  },
  {
   "cell_type": "code",
   "execution_count": null,
   "metadata": {
    "scrolled": true
   },
   "outputs": [],
   "source": [
    "Bexar_Misdemeanor_R_RN_df = pd.read_csv(r'http://edocs.bexar.org/cc/CC_cjjorad_r_rn.csv',header=0, on_bad_lines='skip')"
   ]
  },
  {
   "cell_type": "code",
   "execution_count": null,
   "metadata": {
    "scrolled": true
   },
   "outputs": [],
   "source": [
    "Bexar_Misdemeanor_RO_RZ_df = pd.read_csv(r'http://edocs.bexar.org/cc/CC_cjjorad_ro_rz.csv',header=0, on_bad_lines='skip')"
   ]
  },
  {
   "cell_type": "code",
   "execution_count": null,
   "metadata": {
    "scrolled": true
   },
   "outputs": [],
   "source": [
    "Bexar_Misdemeanor_S_SC_df = pd.read_csv(r'http://edocs.bexar.org/cc/CC_cjjorad_s_sc.csv',header=0, on_bad_lines='skip')"
   ]
  },
  {
   "cell_type": "code",
   "execution_count": null,
   "metadata": {
    "scrolled": true
   },
   "outputs": [],
   "source": [
    "Bexar_Misdemeanor_SD_SN_df = pd.read_csv(r'http://edocs.bexar.org/cc/CC_cjjorad_sd_sn.csv',header=0, on_bad_lines='skip')"
   ]
  },
  {
   "cell_type": "code",
   "execution_count": null,
   "metadata": {
    "scrolled": true
   },
   "outputs": [],
   "source": [
    "Bexar_Misdemeanor_SO_SZ_df = pd.read_csv(r'http://edocs.bexar.org/cc/CC_cjjorad_so_sz.csv',header=0, on_bad_lines='skip')"
   ]
  },
  {
   "cell_type": "code",
   "execution_count": null,
   "metadata": {
    "scrolled": true
   },
   "outputs": [],
   "source": [
    "Bexar_Misdemeanor_T_df = pd.read_csv(r'http://edocs.bexar.org/cc/CC_cjjorad_t.csv',header=0, on_bad_lines='skip', encoding=\"latin-1\")"
   ]
  },
  {
   "cell_type": "code",
   "execution_count": null,
   "metadata": {
    "scrolled": true
   },
   "outputs": [],
   "source": [
    "Bexar_Misdemeanor_U_V_df = pd.read_csv(r'http://edocs.bexar.org/cc/CC_cjjorad_u_v.csv',header=0, on_bad_lines='skip')"
   ]
  },
  {
   "cell_type": "code",
   "execution_count": null,
   "metadata": {
    "scrolled": true
   },
   "outputs": [],
   "source": [
    "Bexar_Misdemeanor_W_Z_df = pd.read_csv(r'http://edocs.bexar.org/cc/CC_cjjorad_w_z.csv',header=0, on_bad_lines='skip')"
   ]
  },
  {
   "cell_type": "code",
   "execution_count": null,
   "metadata": {
    "scrolled": true
   },
   "outputs": [],
   "source": [
    "pd.set_option('display.max_rows', None)\n",
    "pd.set_option('display.max_columns', None)"
   ]
  },
  {
   "cell_type": "code",
   "execution_count": null,
   "metadata": {
    "scrolled": true
   },
   "outputs": [],
   "source": [
    "combined_list = [Bexar_Misdemeanor_A_df, Bexar_Misdemeanor_B_df, Bexar_Misdemeanor_C_CN_df, Bexar_Misdemeanor_CO_CZ_df, Bexar_Misdemeanor_D_df, Bexar_Misdemeanor_E_df, Bexar_Misdemeanor_F_df, Bexar_Misdemeanor_G_GN_df, Bexar_Misdemeanor_GO_GY_df, Bexar_Misdemeanor_H_df, Bexar_Misdemeanor_I_df, Bexar_Misdemeanor_J_df, Bexar_Misdemeanor_K_df, Bexar_Misdemeanor_L_df, Bexar_Misdemeanor_M_MD_df, Bexar_Misdemeanor_ME_MZ_df, Bexar_Misdemeanor_N_df, Bexar_Misdemeanor_O_df, Bexar_Misdemeanor_P_df, Bexar_Misdemeanor_Q_df, Bexar_Misdemeanor_R_RN_df, Bexar_Misdemeanor_RO_RZ_df, Bexar_Misdemeanor_S_SC_df, Bexar_Misdemeanor_SD_SN_df, Bexar_Misdemeanor_SO_SZ_df, Bexar_Misdemeanor_T_df, Bexar_Misdemeanor_U_V_df, Bexar_Misdemeanor_W_Z_df]"
   ]
  },
  {
   "cell_type": "code",
   "execution_count": null,
   "metadata": {
    "scrolled": true
   },
   "outputs": [],
   "source": [
    "combined_df = pd.concat(combined_list, axis=0, ignore_index=True)"
   ]
  },
  {
   "cell_type": "code",
   "execution_count": null,
   "metadata": {
    "scrolled": true
   },
   "outputs": [],
   "source": [
    "combined_df.info()"
   ]
  },
  {
   "cell_type": "code",
   "execution_count": null,
   "metadata": {
    "scrolled": true
   },
   "outputs": [],
   "source": [
    "combined_df.loc[:, 'BIRTHDATE_dt'] = pd.to_datetime(combined_df['BIRTHDATE'], errors='coerce')"
   ]
  },
  {
   "cell_type": "code",
   "execution_count": null,
   "metadata": {
    "scrolled": true
   },
   "outputs": [],
   "source": [
    "combined_df.BIRTHDATE_dt.min()"
   ]
  },
  {
   "cell_type": "code",
   "execution_count": null,
   "metadata": {
    "scrolled": true
   },
   "outputs": [],
   "source": [
    "combined_df.BIRTHDATE_dt.max()"
   ]
  },
  {
   "cell_type": "code",
   "execution_count": null,
   "metadata": {
    "scrolled": true
   },
   "outputs": [],
   "source": [
    "combined_df.columns"
   ]
  },
  {
   "cell_type": "code",
   "execution_count": null,
   "metadata": {
    "scrolled": true
   },
   "outputs": [],
   "source": [
    "with open('24_Feb_22_BexarMisdemeanor.pkl', 'wb') as ofile:\n",
    "    pickle.dump(combined_df, ofile)"
   ]
  },
  {
   "cell_type": "code",
   "execution_count": null,
   "metadata": {
    "scrolled": true
   },
   "outputs": [],
   "source": [
    "combined_df['OFFENSE-DESC'].value_counts()"
   ]
  },
  {
   "cell_type": "code",
   "execution_count": null,
   "metadata": {},
   "outputs": [],
   "source": [
    "aaa = combined_df[combined_df['OFFENSE-DATE'].str.contains('2022')]"
   ]
  },
  {
   "cell_type": "code",
   "execution_count": null,
   "metadata": {},
   "outputs": [],
   "source": [
    "aaa['OFFENSE-DATE'].value_counts()"
   ]
  },
  {
   "cell_type": "code",
   "execution_count": null,
   "metadata": {},
   "outputs": [],
   "source": [
    "aaa['OFFENSE-DESC'].value_counts()"
   ]
  },
  {
   "cell_type": "code",
   "execution_count": null,
   "metadata": {},
   "outputs": [],
   "source": [
    "aaa['SENTENCE'].value_counts()"
   ]
  },
  {
   "cell_type": "code",
   "execution_count": null,
   "metadata": {},
   "outputs": [],
   "source": [
    "!ls"
   ]
  },
  {
   "cell_type": "code",
   "execution_count": null,
   "metadata": {},
   "outputs": [],
   "source": [
    "with open('24_Feb_22_BexarMisdemeanor.pkl', 'rb') as ifile:\n",
    "    Mis_df = pickle.load(ifile)"
   ]
  },
  {
   "cell_type": "code",
   "execution_count": null,
   "metadata": {},
   "outputs": [],
   "source": [
    "Mis_df.columns"
   ]
  },
  {
   "cell_type": "code",
   "execution_count": null,
   "metadata": {},
   "outputs": [],
   "source": [
    "Mis_df.loc[:, 'OFFENSE-DATE_dt'] = pd.to_datetime(Mis_df['OFFENSE-DATE'], errors='coerce')"
   ]
  },
  {
   "cell_type": "code",
   "execution_count": null,
   "metadata": {},
   "outputs": [],
   "source": [
    "Mis_df.columns"
   ]
  },
  {
   "cell_type": "code",
   "execution_count": null,
   "metadata": {},
   "outputs": [],
   "source": [
    "with open('23_Feb_22_BexarMisdemeanor.pkl', 'rb') as ifile:\n",
    "    Mis23_df = pickle.load(ifile)"
   ]
  },
  {
   "cell_type": "code",
   "execution_count": null,
   "metadata": {},
   "outputs": [],
   "source": [
    "with open('24_Feb_22_BexarMisdemeanor.pkl', 'rb') as ifile:\n",
    "    Mis24_df = pickle.load(ifile)"
   ]
  },
  {
   "cell_type": "code",
   "execution_count": null,
   "metadata": {},
   "outputs": [],
   "source": [
    "Mis24_df[~ Mis24_df['CASE-CAUSE-NBR'].isin(Mis23_df['CASE-CAUSE-NBR'])][['OFFENSE-DESC']].value_counts()"
   ]
  },
  {
   "cell_type": "code",
   "execution_count": null,
   "metadata": {},
   "outputs": [],
   "source": [
    "Mis_df['OFFENSE-DESC'].value_counts()"
   ]
  },
  {
   "cell_type": "code",
   "execution_count": null,
   "metadata": {},
   "outputs": [],
   "source": [
    "Mis_df[Mis_df['OFFENSE-DESC'].str.contains('MARIHUANA')][['OFFENSE-DESC']].value_counts()"
   ]
  },
  {
   "cell_type": "code",
   "execution_count": null,
   "metadata": {},
   "outputs": [],
   "source": [
    "Mis_df[Mis_df['OFFENSE-DATE_dt'].dt.year == 2019][['OFFENSE-DESC']].value_counts()"
   ]
  },
  {
   "cell_type": "code",
   "execution_count": null,
   "metadata": {},
   "outputs": [],
   "source": []
  }
 ],
 "metadata": {
  "kernelspec": {
   "display_name": "Python 3 (ipykernel)",
   "language": "python",
   "name": "python3"
  },
  "language_info": {
   "codemirror_mode": {
    "name": "ipython",
    "version": 3
   },
   "file_extension": ".py",
   "mimetype": "text/x-python",
   "name": "python",
   "nbconvert_exporter": "python",
   "pygments_lexer": "ipython3",
   "version": "3.7.16"
  }
 },
 "nbformat": 4,
 "nbformat_minor": 4
}
