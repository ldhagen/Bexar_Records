{
 "cells": [
  {
   "cell_type": "markdown",
   "id": "a6be302a-e6f3-43ba-a2ee-2de1dbfc60b9",
   "metadata": {},
   "source": [
    "https://open-meteo.com/en/docs/gfs-api#latitude=29.4241&longitude=-98.4936&timezone=America%2FChicago"
   ]
  },
  {
   "cell_type": "code",
   "execution_count": 6,
   "id": "f1729603-93ce-4c92-984d-3510ecd216a2",
   "metadata": {},
   "outputs": [
    {
     "name": "stdout",
     "output_type": "stream",
     "text": [
      "Requirement already satisfied: openmeteo_requests in /var/tmp/ldh/newvirt/lib/python3.12/site-packages (1.3.0)\n",
      "Requirement already satisfied: openmeteo-sdk>=1.4.0 in /var/tmp/ldh/newvirt/lib/python3.12/site-packages (from openmeteo_requests) (1.18.0)\n",
      "Requirement already satisfied: requests in /var/tmp/ldh/newvirt/lib/python3.12/site-packages (from openmeteo_requests) (2.32.3)\n",
      "Requirement already satisfied: flatbuffers>=24.0.0 in /var/tmp/ldh/newvirt/lib/python3.12/site-packages (from openmeteo-sdk>=1.4.0->openmeteo_requests) (24.3.25)\n",
      "Requirement already satisfied: charset-normalizer<4,>=2 in /var/tmp/ldh/newvirt/lib/python3.12/site-packages (from requests->openmeteo_requests) (3.3.2)\n",
      "Requirement already satisfied: idna<4,>=2.5 in /var/tmp/ldh/newvirt/lib/python3.12/site-packages (from requests->openmeteo_requests) (3.8)\n",
      "Requirement already satisfied: urllib3<3,>=1.21.1 in /var/tmp/ldh/newvirt/lib/python3.12/site-packages (from requests->openmeteo_requests) (2.2.2)\n",
      "Requirement already satisfied: certifi>=2017.4.17 in /var/tmp/ldh/newvirt/lib/python3.12/site-packages (from requests->openmeteo_requests) (2024.8.30)\n",
      "Requirement already satisfied: requests_cache in /var/tmp/ldh/newvirt/lib/python3.12/site-packages (1.2.1)\n",
      "Requirement already satisfied: attrs>=21.2 in /var/tmp/ldh/newvirt/lib/python3.12/site-packages (from requests_cache) (24.2.0)\n",
      "Requirement already satisfied: cattrs>=22.2 in /var/tmp/ldh/newvirt/lib/python3.12/site-packages (from requests_cache) (24.1.2)\n",
      "Requirement already satisfied: platformdirs>=2.5 in /var/tmp/ldh/newvirt/lib/python3.12/site-packages (from requests_cache) (4.2.2)\n",
      "Requirement already satisfied: requests>=2.22 in /var/tmp/ldh/newvirt/lib/python3.12/site-packages (from requests_cache) (2.32.3)\n",
      "Requirement already satisfied: url-normalize>=1.4 in /var/tmp/ldh/newvirt/lib/python3.12/site-packages (from requests_cache) (1.4.3)\n",
      "Requirement already satisfied: urllib3>=1.25.5 in /var/tmp/ldh/newvirt/lib/python3.12/site-packages (from requests_cache) (2.2.2)\n",
      "Requirement already satisfied: charset-normalizer<4,>=2 in /var/tmp/ldh/newvirt/lib/python3.12/site-packages (from requests>=2.22->requests_cache) (3.3.2)\n",
      "Requirement already satisfied: idna<4,>=2.5 in /var/tmp/ldh/newvirt/lib/python3.12/site-packages (from requests>=2.22->requests_cache) (3.8)\n",
      "Requirement already satisfied: certifi>=2017.4.17 in /var/tmp/ldh/newvirt/lib/python3.12/site-packages (from requests>=2.22->requests_cache) (2024.8.30)\n",
      "Requirement already satisfied: six in /var/tmp/ldh/newvirt/lib/python3.12/site-packages (from url-normalize>=1.4->requests_cache) (1.16.0)\n",
      "Collecting retry_requests\n",
      "  Downloading retry_requests-2.0.0-py3-none-any.whl.metadata (2.6 kB)\n",
      "Requirement already satisfied: requests in /var/tmp/ldh/newvirt/lib/python3.12/site-packages (from retry_requests) (2.32.3)\n",
      "Requirement already satisfied: urllib3>=1.26 in /var/tmp/ldh/newvirt/lib/python3.12/site-packages (from retry_requests) (2.2.2)\n",
      "Requirement already satisfied: charset-normalizer<4,>=2 in /var/tmp/ldh/newvirt/lib/python3.12/site-packages (from requests->retry_requests) (3.3.2)\n",
      "Requirement already satisfied: idna<4,>=2.5 in /var/tmp/ldh/newvirt/lib/python3.12/site-packages (from requests->retry_requests) (3.8)\n",
      "Requirement already satisfied: certifi>=2017.4.17 in /var/tmp/ldh/newvirt/lib/python3.12/site-packages (from requests->retry_requests) (2024.8.30)\n",
      "Downloading retry_requests-2.0.0-py3-none-any.whl (15 kB)\n",
      "Installing collected packages: retry_requests\n",
      "Successfully installed retry_requests-2.0.0\n"
     ]
    }
   ],
   "source": [
    "!pip install openmeteo_requests\n",
    "!pip install requests_cache\n",
    "!pip install retry_requests"
   ]
  },
  {
   "cell_type": "code",
   "execution_count": 7,
   "id": "5330ac88-0f90-47c3-b9c0-e0b2fd1a4184",
   "metadata": {},
   "outputs": [],
   "source": [
    "import openmeteo_requests\n",
    "\n",
    "import requests_cache\n",
    "import pandas as pd\n",
    "from retry_requests import retry"
   ]
  },
  {
   "cell_type": "code",
   "execution_count": 8,
   "id": "e54e326a-b8b6-4f7b-b42d-c592617814bc",
   "metadata": {},
   "outputs": [],
   "source": [
    "# Setup the Open-Meteo API client with cache and retry on error\n",
    "cache_session = requests_cache.CachedSession('.cache', expire_after = 3600)\n",
    "retry_session = retry(cache_session, retries = 5, backoff_factor = 0.2)\n",
    "openmeteo = openmeteo_requests.Client(session = retry_session)"
   ]
  },
  {
   "cell_type": "code",
   "execution_count": 9,
   "id": "aa03cd3d-6819-452d-835b-b84a22b7420a",
   "metadata": {},
   "outputs": [],
   "source": [
    "# Make sure all required weather variables are listed here\n",
    "# The order of variables in hourly or daily is important to assign them correctly below\n",
    "url = \"https://api.open-meteo.com/v1/forecast\"\n",
    "params = {\n",
    "\t\"latitude\": 29.4241,\n",
    "\t\"longitude\": -98.4936,\n",
    "\t\"hourly\": \"temperature_2m\",\n",
    "\t\"timezone\": \"America/Chicago\",\n",
    "\t\"models\": \"gfs_seamless\"\n",
    "}"
   ]
  },
  {
   "cell_type": "code",
   "execution_count": 10,
   "id": "0f448469-8e2e-43fe-91c8-20ada00bb091",
   "metadata": {},
   "outputs": [
    {
     "name": "stdout",
     "output_type": "stream",
     "text": [
      "Coordinates 29.411029815673828°N -98.48500061035156°E\n",
      "Elevation 203.0 m asl\n",
      "Timezone b'America/Chicago' b'CST'\n",
      "Timezone difference to GMT+0 -21600 s\n"
     ]
    }
   ],
   "source": [
    "responses = openmeteo.weather_api(url, params=params)\n",
    "\n",
    "# Process first location. Add a for-loop for multiple locations or weather models\n",
    "response = responses[0]\n",
    "print(f\"Coordinates {response.Latitude()}°N {response.Longitude()}°E\")\n",
    "print(f\"Elevation {response.Elevation()} m asl\")\n",
    "print(f\"Timezone {response.Timezone()} {response.TimezoneAbbreviation()}\")\n",
    "print(f\"Timezone difference to GMT+0 {response.UtcOffsetSeconds()} s\")"
   ]
  },
  {
   "cell_type": "code",
   "execution_count": 11,
   "id": "c8bd8912-78c9-4fa4-a50a-372efbeb234a",
   "metadata": {},
   "outputs": [],
   "source": [
    "# Process hourly data. The order of variables needs to be the same as requested.\n",
    "hourly = response.Hourly()\n",
    "hourly_temperature_2m = hourly.Variables(0).ValuesAsNumpy()\n",
    "\n",
    "hourly_data = {\"date\": pd.date_range(\n",
    "\tstart = pd.to_datetime(hourly.Time(), unit = \"s\", utc = True),\n",
    "\tend = pd.to_datetime(hourly.TimeEnd(), unit = \"s\", utc = True),\n",
    "\tfreq = pd.Timedelta(seconds = hourly.Interval()),\n",
    "\tinclusive = \"left\"\n",
    ")}"
   ]
  },
  {
   "cell_type": "code",
   "execution_count": 12,
   "id": "ebae9e5a-55d9-4403-a95c-08ca2a4e2ff0",
   "metadata": {},
   "outputs": [
    {
     "name": "stdout",
     "output_type": "stream",
     "text": [
      "                         date  temperature_2m\n",
      "0   2024-12-17 06:00:00+00:00       19.250000\n",
      "1   2024-12-17 07:00:00+00:00       19.250000\n",
      "2   2024-12-17 08:00:00+00:00       20.000000\n",
      "3   2024-12-17 09:00:00+00:00       20.150000\n",
      "4   2024-12-17 10:00:00+00:00       20.350000\n",
      "..                        ...             ...\n",
      "163 2024-12-24 01:00:00+00:00       18.123501\n",
      "164 2024-12-24 02:00:00+00:00       18.173500\n",
      "165 2024-12-24 03:00:00+00:00       18.023500\n",
      "166 2024-12-24 04:00:00+00:00       17.323502\n",
      "167 2024-12-24 05:00:00+00:00       16.373501\n",
      "\n",
      "[168 rows x 2 columns]\n"
     ]
    }
   ],
   "source": [
    "hourly_data[\"temperature_2m\"] = hourly_temperature_2m\n",
    "\n",
    "hourly_dataframe = pd.DataFrame(data = hourly_data)\n",
    "print(hourly_dataframe)"
   ]
  },
  {
   "cell_type": "code",
   "execution_count": null,
   "id": "7d38005d-3fff-4415-84a8-a457570a3e37",
   "metadata": {},
   "outputs": [],
   "source": []
  }
 ],
 "metadata": {
  "kernelspec": {
   "display_name": "Python 3 (ipykernel)",
   "language": "python",
   "name": "python3"
  },
  "language_info": {
   "codemirror_mode": {
    "name": "ipython",
    "version": 3
   },
   "file_extension": ".py",
   "mimetype": "text/x-python",
   "name": "python",
   "nbconvert_exporter": "python",
   "pygments_lexer": "ipython3",
   "version": "3.12.3"
  }
 },
 "nbformat": 4,
 "nbformat_minor": 5
}
