{
 "cells": [
  {
   "cell_type": "markdown",
   "metadata": {},
   "source": [
    "Building daily archive of https://apps.bexar.org/jailactivity/KB50061D20220918.txt type jail reports which appear to be online for 10 days or so"
   ]
  },
  {
   "cell_type": "code",
   "execution_count": 6,
   "metadata": {},
   "outputs": [],
   "source": [
    "import pickle, ssl"
   ]
  },
  {
   "cell_type": "code",
   "execution_count": 7,
   "metadata": {},
   "outputs": [],
   "source": [
    "ssl._create_default_https_context = ssl._create_unverified_context"
   ]
  },
  {
   "cell_type": "code",
   "execution_count": 19,
   "metadata": {},
   "outputs": [
    {
     "name": "stdout",
     "output_type": "stream",
     "text": [
      "--2022-09-27 09:24:58--  https://apps.bexar.org/jailactivity/KB50061D20220928.txt\n",
      "Resolving apps.bexar.org (apps.bexar.org)... 208.83.180.56\n",
      "Connecting to apps.bexar.org (apps.bexar.org)|208.83.180.56|:443... connected.\n",
      "WARNING: cannot verify apps.bexar.org's certificate, issued by ‘CN=Go Daddy Secure Certificate Authority - G2,OU=http://certs.godaddy.com/repository/,O=GoDaddy.com\\\\, Inc.,L=Scottsdale,ST=Arizona,C=US’:\n",
      "  Unable to locally verify the issuer's authority.\n",
      "HTTP request sent, awaiting response... 404 Not Found\n",
      "2022-09-27 09:24:58 ERROR 404: Not Found.\n",
      "\n"
     ]
    }
   ],
   "source": [
    "!wget --no-check-certificate 'https://apps.bexar.org/jailactivity/KB50061D20220928.txt'"
   ]
  },
  {
   "cell_type": "code",
   "execution_count": 20,
   "metadata": {},
   "outputs": [
    {
     "name": "stdout",
     "output_type": "stream",
     "text": [
      "-rw-r--r-- 1 ldhagen ldhagen  69237 Oct  4  2021 KB50061D20211004.txt\r\n",
      "-rw-r--r-- 1 ldhagen ldhagen  72744 Oct  5  2021 KB50061D20211005.txt\r\n",
      "-rw-r--r-- 1 ldhagen ldhagen 110587 Oct  6  2021 KB50061D20211006.txt\r\n",
      "-rw-r--r-- 1 ldhagen ldhagen 101263 Oct  7  2021 KB50061D20211007.txt\r\n",
      "-rw-r--r-- 1 ldhagen ldhagen 117461 Oct  8  2021 KB50061D20211008.txt\r\n",
      "-rw-r--r-- 1 ldhagen ldhagen  75932 Oct 11  2021 KB50061D20211011.txt\r\n",
      "-rw-r--r-- 1 ldhagen ldhagen  71880 Oct 12  2021 KB50061D20211012.txt\r\n",
      "-rw-r--r-- 1 ldhagen ldhagen 102762 Oct 21  2021 KB50061D20211021.txt\r\n",
      "-rw-r--r-- 1 ldhagen ldhagen  81782 Oct 25  2021 KB50061D20211025.txt\r\n",
      "-rw-r--r-- 1 ldhagen ldhagen  91127 Nov 24  2021 KB50061D20211124.txt\r\n",
      "-rw-r--r-- 1 ldhagen ldhagen  89570 Sep 18 00:10 KB50061D20220918.txt\r\n",
      "-rw-r--r-- 1 ldhagen ldhagen  79557 Sep 19 00:13 KB50061D20220919.txt\r\n",
      "-rw-r--r-- 1 ldhagen ldhagen  83102 Sep 20 00:10 KB50061D20220920.txt\r\n",
      "-rw-r--r-- 1 ldhagen ldhagen  98875 Sep 21 00:13 KB50061D20220921.txt\r\n",
      "-rw-r--r-- 1 ldhagen ldhagen 119565 Sep 22 00:10 KB50061D20220922.txt\r\n",
      "-rw-r--r-- 1 ldhagen ldhagen 140815 Sep 23 00:13 KB50061D20220923.txt\r\n",
      "-rw-r--r-- 1 ldhagen ldhagen 100698 Sep 24 00:12 KB50061D20220924.txt\r\n",
      "-rw-r--r-- 1 ldhagen ldhagen  84101 Sep 25 00:09 KB50061D20220925.txt\r\n",
      "-rw-r--r-- 1 ldhagen ldhagen  67206 Sep 26 00:12 KB50061D20220926.txt\r\n",
      "-rw-r--r-- 1 ldhagen ldhagen  94875 Sep 27 00:12 KB50061D20220927.txt\r\n"
     ]
    }
   ],
   "source": [
    "!ls -al *.txt"
   ]
  },
  {
   "cell_type": "code",
   "execution_count": 21,
   "metadata": {},
   "outputs": [
    {
     "name": "stdout",
     "output_type": "stream",
     "text": [
      "KB50061D20211005.txt:0B202133147   10 04 2021 1956 FARELA, JAIME ERNESTO            W M 00000000 510 ROSEBOROUGH        SAN ANTONIO, TX. 78210   TX0150000\r",
      "\r\n",
      "KB50061D20211006.txt: ATTORNEY OF RECORD: 00790198 - ACEVEDO, ERNEST\r",
      "\r\n",
      "KB50061D20211006.txt:0B202133147   10 04 2021 1956 FARELA, JAIME ERNESTO            W M 00000000 510 ROSEBOROUGH        SAN ANTONIO, TX. 78210   TX0150000\r",
      "\r\n",
      "KB50061D20211006.txt:0B202133190   10 05 2021 0610 DOMINGUEZ, ERNEST ANTHONY        L M 00000000 819 F                  SAN ANTONIO, TX. 78220   TX0150000\r",
      "\r\n",
      "KB50061D20211007.txt: ATTORNEY OF RECORD: 00790198 - ACEVEDO, ERNEST\r",
      "\r\n",
      "KB50061D20211008.txt:0B202127659   08 21 2021 1043 AVILA, ERNEST                    L M 00000000 3523 LE BLANC          SAN ANTONIO, TX. 78247   TX0150000\r",
      "\r\n",
      "KB50061D20211008.txt:0B202133388   10 07 2021 0312 BALBOA, ROCKY ERNESTO            L M 00000000 503 H   B              SAN ANTONIO, TX. 78220   TX0150000\r",
      "\r\n",
      "KB50061D20211008.txt:0B202133448   10 07 2021 1511 RUFFO, ERNESTINE DEE             L F 00000000 5365 SOUTHCROSS RANCH  SAN ANTONIO, TX. 00000   TX0150000\r",
      "\r\n",
      "KB50061D20211124.txt:0B202139067   11 22 2021 2149 GARCIA, ERNEST ANDREW            W M 00000000 10019 OVERLOOK ACRES   SAN ANTONIO, TX. 78245   TX0150000\r",
      "\r\n",
      "KB50061D20220918.txt:0B202232684   09 17 2022 0123 TORRES, ERNEST                   W M 00000000 2555 LOOP 410   2604   SAN ANTONIO, TX. 78217   TX0150000\r",
      "\r\n",
      "KB50061D20220918.txt:0B202232755   09 17 2022 1420 HERNANDEZHERNANDEZ, ERNESTO      L M 00000000 3418 WOODLAWN          SAN ANTONIO, TX. 78228   TX0150000\r",
      "\r\n",
      "KB50061D20220919.txt:0B202232755   09 17 2022 1420 HERNANDEZHERNANDEZ, ERNESTO      L M 00000000 3418 WOODLAWN          SAN ANTONIO, TX. 78228   TX0150000\r",
      "\r\n",
      "KB50061D20220921.txt:0B202221706   06 25 2022 0908 WATSON, ROBERT ERNEST            W M 00000000 6723 SUNLIGHT          SAN ANTONIO, TX. 78238   TX0150000\r",
      "\r\n",
      "KB50061D20220922.txt:0B202230774   09 02 2022 0357 ZAMARRIPA, ERNEST ADAM-JR        L M 00000000 107 BANGOR             SAN ANTONIO, TX. 78228   TX0150000\r",
      "\r\n",
      "KB50061D20220923.txt:0B202111032   04 08 2021 0955 BARRERA, ERNESTO                 W M 00000000 106 OSAGE              SAN ANTONIO, TX. 78207   TX0150000\r",
      "\r\n",
      "KB50061D20220923.txt:0B202231859   09 10 2022 1637 GONZALES, ERNEST ALONZO          L M 00000000 3114 LAREDO            SAN ANTONIO, TX. 78207   TX0150000\r",
      "\r\n",
      "KB50061D20220923.txt:0B202233398   09 22 2022 2207 JOHNSON, ERNEST                  W M 00000000 2029 SUSAN             HARLINGEN, TX. 78550     TX0150000\r",
      "\r\n",
      "KB50061D20220924.txt:0B202233444   09 23 2022 0514 YGLECIAS, ERNESTO GONZALEZ       L M 00000000 1430 BRIGHTON          SAN ANTONIO, TX. 78211   TX0150000\r",
      "\r\n",
      "KB50061D20220925.txt:0B202215246   05 06 2022 1959 FLORES, ERNEST                   L M 00000000 6915 TALLEHASSE        SAN ANTONIO, TX. 78227   TX0150000\r",
      "\r\n",
      "KB50061D20220925.txt:0B202233581   09 24 2022 0633 VASQUEZ, ERNEST                  W M 00000000 8907 ATWATER CREEK     SAN ANTONIO, TX. 78245   TX0150000\r",
      "\r\n",
      "KB50061D20220927.txt:0B202233900   09 26 2022 2240 PHILLIPS, ERNEST                 B M 00000000 7626 GLEN HURST        SAN ANTONIO, TX. 78239   TX0150000\r",
      "\r\n"
     ]
    }
   ],
   "source": [
    "!grep ERNEST *.txt"
   ]
  },
  {
   "cell_type": "code",
   "execution_count": null,
   "metadata": {},
   "outputs": [],
   "source": []
  }
 ],
 "metadata": {
  "kernelspec": {
   "display_name": "Python 3",
   "language": "python",
   "name": "python3"
  },
  "language_info": {
   "codemirror_mode": {
    "name": "ipython",
    "version": 3
   },
   "file_extension": ".py",
   "mimetype": "text/x-python",
   "name": "python",
   "nbconvert_exporter": "python",
   "pygments_lexer": "ipython3",
   "version": "3.8.10"
  }
 },
 "nbformat": 4,
 "nbformat_minor": 4
}
